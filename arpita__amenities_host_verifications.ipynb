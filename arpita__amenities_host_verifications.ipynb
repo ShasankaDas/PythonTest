{
  "cells": [
    {
      "cell_type": "code",
      "execution_count": null,
      "id": "7f16ad9e",
      "metadata": {
        "id": "7f16ad9e"
      },
      "outputs": [],
      "source": [
        "import pandas as pd"
      ]
    },
    {
      "cell_type": "code",
      "execution_count": null,
      "id": "e214f386",
      "metadata": {
        "id": "e214f386"
      },
      "outputs": [],
      "source": [
        "#import listing data#############################LISTING\n",
        "lst1 = pd.read_csv(\"listings_sep.csv.gz\", compression = \"gzip\")\n",
        "lst2 = pd.read_csv(\"listings_dec.csv.gz\", compression = \"gzip\")\n",
        "lst3 = pd.read_csv(\"listings_mar.gz\", compression = \"gzip\")\n",
        "lst4 = pd.read_csv(\"listings.csv.gz\", compression = \"gzip\")"
      ]
    },
    {
      "cell_type": "code",
      "execution_count": null,
      "id": "e4cc3d45",
      "metadata": {
        "id": "e4cc3d45"
      },
      "outputs": [],
      "source": [
        "#check that they all have the same columns\n",
        "print(lst1.columns)\n",
        "print(lst2.columns)\n",
        "print(lst3.columns)\n",
        "print(lst4.columns)"
      ]
    },
    {
      "cell_type": "code",
      "execution_count": null,
      "id": "c1be2e4d",
      "metadata": {
        "id": "c1be2e4d"
      },
      "outputs": [],
      "source": [
        "#check row and column counts\n",
        "print(lst1.shape)\n",
        "print(lst2.shape)\n",
        "print(lst3.shape)\n",
        "print(lst4.shape)"
      ]
    },
    {
      "cell_type": "code",
      "source": [
        "lst1=lst1.drop(['source'], axis=1)"
      ],
      "metadata": {
        "id": "c07R7w06sEWx"
      },
      "id": "c07R7w06sEWx",
      "execution_count": null,
      "outputs": []
    },
    {
      "cell_type": "code",
      "execution_count": null,
      "id": "c7e4419e",
      "metadata": {
        "id": "c7e4419e",
        "outputId": "96a6b637-ba59-4d4a-cbe1-40af7cebfc3e",
        "colab": {
          "base_uri": "https://localhost:8080/"
        }
      },
      "outputs": [
        {
          "output_type": "stream",
          "name": "stdout",
          "text": [
            "(153199, 74)\n"
          ]
        }
      ],
      "source": [
        "#combine all quarters into one dataframe\n",
        "fdf = pd.concat([lst1, lst2, lst3, lst4])\n",
        "#make sure row and column counts look as expected\n",
        "print(fdf.shape)"
      ]
    },
    {
      "cell_type": "code",
      "source": [
        "drop = ['listing_url', 'scrape_id', 'last_scraped','picture_url',\n",
        "         'host_url', 'host_about', 'host_thumbnail_url', 'host_picture_url','latitude','longitude','maximum_minimum_nights','minimum_maximum_nights'\n",
        "        ,'minimum_maximum_nights','maximum_maximum_nights','minimum_nights_avg_ntm','maximum_nights_avg_ntm','calendar_updated', 'availability_30','availability_60','availability_90','availability_365'\n",
        "        ,'calendar_last_scraped','first_review','last_review','bathrooms','license'] "
      ],
      "metadata": {
        "id": "-gBF8WJHL3UD"
      },
      "id": "-gBF8WJHL3UD",
      "execution_count": null,
      "outputs": []
    },
    {
      "cell_type": "code",
      "source": [
        "# Dropping all the columns I don't want\n",
        "fdf = fdf.drop(drop, axis=1)"
      ],
      "metadata": {
        "id": "rG0v9tfjaATf"
      },
      "id": "rG0v9tfjaATf",
      "execution_count": null,
      "outputs": []
    },
    {
      "cell_type": "code",
      "source": [
        "#Separate Data Types\n",
        "cat_df = fdf.select_dtypes(include=['object', 'bool'])\n",
        "\n"
      ],
      "metadata": {
        "id": "E4WQfOJIEAnD"
      },
      "id": "E4WQfOJIEAnD",
      "execution_count": null,
      "outputs": []
    },
    {
      "cell_type": "code",
      "source": [
        "#cat_cols = fdf.select_dtypes(include=['object', 'bool']).columns.values"
      ],
      "metadata": {
        "id": "hTlGZWacEAqg"
      },
      "id": "hTlGZWacEAqg",
      "execution_count": null,
      "outputs": []
    },
    {
      "cell_type": "code",
      "source": [
        "#cat_cols"
      ],
      "metadata": {
        "colab": {
          "base_uri": "https://localhost:8080/"
        },
        "id": "N6E_UQjMEAtj",
        "outputId": "72fd4af5-9d6d-4be4-e0f4-0062fb981c42"
      },
      "id": "N6E_UQjMEAtj",
      "execution_count": null,
      "outputs": [
        {
          "output_type": "execute_result",
          "data": {
            "text/plain": [
              "array(['name', 'description', 'neighborhood_overview', 'host_name',\n",
              "       'host_since', 'host_location', 'host_response_time',\n",
              "       'host_response_rate', 'host_acceptance_rate', 'host_is_superhost',\n",
              "       'host_neighbourhood', 'host_verifications', 'host_has_profile_pic',\n",
              "       'host_identity_verified', 'neighbourhood',\n",
              "       'neighbourhood_cleansed', 'neighbourhood_group_cleansed',\n",
              "       'property_type', 'room_type', 'bathrooms_text', 'amenities',\n",
              "       'price', 'has_availability', 'instant_bookable'], dtype=object)"
            ]
          },
          "metadata": {},
          "execution_count": 16
        }
      ]
    },
    {
      "cell_type": "code",
      "source": [
        "# Converting the response rate to float\n",
        "def repl(m): return m.group(1)\n",
        "\n",
        "cat_df['host_response_rate'] = cat_df['host_response_rate'].str.replace(\n",
        "    r'(\\d+)%', repl).astype(float)"
      ],
      "metadata": {
        "colab": {
          "base_uri": "https://localhost:8080/"
        },
        "id": "SxxWC7iz6Wul",
        "outputId": "482a3206-6f48-4f5d-88ff-5bf162b9e98b"
      },
      "id": "SxxWC7iz6Wul",
      "execution_count": null,
      "outputs": [
        {
          "output_type": "stream",
          "name": "stderr",
          "text": [
            "/usr/local/lib/python3.7/dist-packages/ipykernel_launcher.py:5: FutureWarning: The default value of regex will change from True to False in a future version.\n",
            "  \"\"\"\n",
            "/usr/local/lib/python3.7/dist-packages/ipykernel_launcher.py:5: SettingWithCopyWarning: \n",
            "A value is trying to be set on a copy of a slice from a DataFrame.\n",
            "Try using .loc[row_indexer,col_indexer] = value instead\n",
            "\n",
            "See the caveats in the documentation: https://pandas.pydata.org/pandas-docs/stable/user_guide/indexing.html#returning-a-view-versus-a-copy\n",
            "  \"\"\"\n"
          ]
        }
      ]
    },
    {
      "cell_type": "code",
      "source": [
        "#cat_df['host_response_rate'].head(10)"
      ],
      "metadata": {
        "id": "DGf60Prv7nTd"
      },
      "id": "DGf60Prv7nTd",
      "execution_count": null,
      "outputs": []
    },
    {
      "cell_type": "code",
      "source": [
        "cat_df['host_acceptance_rate'] = cat_df['host_acceptance_rate'].str.replace(\n",
        "    r'(\\d+)%', repl).astype(float)"
      ],
      "metadata": {
        "colab": {
          "base_uri": "https://localhost:8080/"
        },
        "id": "jx6h2cdo8GI-",
        "outputId": "16436890-2b16-4d5a-da47-1ca22cb0fa8b"
      },
      "id": "jx6h2cdo8GI-",
      "execution_count": null,
      "outputs": [
        {
          "output_type": "stream",
          "name": "stderr",
          "text": [
            "/usr/local/lib/python3.7/dist-packages/ipykernel_launcher.py:2: FutureWarning: The default value of regex will change from True to False in a future version.\n",
            "  \n",
            "/usr/local/lib/python3.7/dist-packages/ipykernel_launcher.py:2: SettingWithCopyWarning: \n",
            "A value is trying to be set on a copy of a slice from a DataFrame.\n",
            "Try using .loc[row_indexer,col_indexer] = value instead\n",
            "\n",
            "See the caveats in the documentation: https://pandas.pydata.org/pandas-docs/stable/user_guide/indexing.html#returning-a-view-versus-a-copy\n",
            "  \n"
          ]
        }
      ]
    },
    {
      "cell_type": "code",
      "source": [
        "#cat_df['host_acceptance_rate'].head(10)"
      ],
      "metadata": {
        "id": "ARqh8pZW8iPc"
      },
      "id": "ARqh8pZW8iPc",
      "execution_count": null,
      "outputs": []
    },
    {
      "cell_type": "code",
      "source": [
        "cat_df['price'] = cat_df[\"price\"].str.replace('$','').str.replace(',','').astype(float)"
      ],
      "metadata": {
        "colab": {
          "base_uri": "https://localhost:8080/"
        },
        "id": "4cYf0izG9H_B",
        "outputId": "bd3bff32-ee73-478c-9bfa-ee380da04bed"
      },
      "id": "4cYf0izG9H_B",
      "execution_count": null,
      "outputs": [
        {
          "output_type": "stream",
          "name": "stderr",
          "text": [
            "/usr/local/lib/python3.7/dist-packages/ipykernel_launcher.py:1: FutureWarning: The default value of regex will change from True to False in a future version. In addition, single character regular expressions will *not* be treated as literal strings when regex=True.\n",
            "  \"\"\"Entry point for launching an IPython kernel.\n",
            "/usr/local/lib/python3.7/dist-packages/ipykernel_launcher.py:1: SettingWithCopyWarning: \n",
            "A value is trying to be set on a copy of a slice from a DataFrame.\n",
            "Try using .loc[row_indexer,col_indexer] = value instead\n",
            "\n",
            "See the caveats in the documentation: https://pandas.pydata.org/pandas-docs/stable/user_guide/indexing.html#returning-a-view-versus-a-copy\n",
            "  \"\"\"Entry point for launching an IPython kernel.\n"
          ]
        }
      ]
    },
    {
      "cell_type": "code",
      "source": [
        "#price to int /\n",
        "#hostsince to date\n",
        "#host_response_rate', 'host_acceptance_rate'?? %  should be numeric????\n"
      ],
      "metadata": {
        "id": "WkIRjEDPF17Z"
      },
      "id": "WkIRjEDPF17Z",
      "execution_count": null,
      "outputs": []
    },
    {
      "cell_type": "code",
      "source": [
        "num_df = fdf.select_dtypes(include=['int', 'float'])\n",
        "num_cols = fdf.select_dtypes(include=['int', 'float']).columns.values"
      ],
      "metadata": {
        "id": "0o9hK5UcGZ4k"
      },
      "id": "0o9hK5UcGZ4k",
      "execution_count": null,
      "outputs": []
    },
    {
      "cell_type": "code",
      "source": [
        "#num_cols"
      ],
      "metadata": {
        "colab": {
          "base_uri": "https://localhost:8080/"
        },
        "id": "_cN4RDnxGdhz",
        "outputId": "50e016cd-8474-44e5-dfde-55c3f8ae02f9"
      },
      "id": "_cN4RDnxGdhz",
      "execution_count": null,
      "outputs": [
        {
          "output_type": "execute_result",
          "data": {
            "text/plain": [
              "array(['id', 'host_id', 'host_listings_count',\n",
              "       'host_total_listings_count', 'accommodates', 'bedrooms', 'beds',\n",
              "       'minimum_nights', 'maximum_nights', 'minimum_minimum_nights',\n",
              "       'number_of_reviews', 'number_of_reviews_ltm',\n",
              "       'number_of_reviews_l30d', 'review_scores_rating',\n",
              "       'review_scores_accuracy', 'review_scores_cleanliness',\n",
              "       'review_scores_checkin', 'review_scores_communication',\n",
              "       'review_scores_location', 'review_scores_value',\n",
              "       'calculated_host_listings_count',\n",
              "       'calculated_host_listings_count_entire_homes',\n",
              "       'calculated_host_listings_count_private_rooms',\n",
              "       'calculated_host_listings_count_shared_rooms', 'reviews_per_month'],\n",
              "      dtype=object)"
            ]
          },
          "metadata": {},
          "execution_count": 25
        }
      ]
    },
    {
      "cell_type": "code",
      "source": [
        "#id?  host id?\n"
      ],
      "metadata": {
        "id": "vXACNuABGj5C"
      },
      "id": "vXACNuABGj5C",
      "execution_count": null,
      "outputs": []
    },
    {
      "cell_type": "code",
      "source": [
        "dtyped_df = pd.concat([num_df, cat_df], axis=1)"
      ],
      "metadata": {
        "id": "DjZE6cduOajo"
      },
      "id": "DjZE6cduOajo",
      "execution_count": null,
      "outputs": []
    },
    {
      "cell_type": "code",
      "source": [
        "#bi_cols = []\n",
        "#for col in dtyped_df.columns:\n",
        "    #if dtyped_df[col].nunique() == 2:\n",
        "        #bi_cols.append(col)"
      ],
      "metadata": {
        "id": "vwiaishYOavB"
      },
      "id": "vwiaishYOavB",
      "execution_count": null,
      "outputs": []
    },
    {
      "cell_type": "code",
      "source": [
        "#cat_df[bi_cols].head()"
      ],
      "metadata": {
        "colab": {
          "base_uri": "https://localhost:8080/",
          "height": 206
        },
        "id": "OAxgtF1ZOayg",
        "outputId": "2fa9da3e-7f0e-4dc5-e376-7d3af71a7636"
      },
      "id": "OAxgtF1ZOayg",
      "execution_count": null,
      "outputs": [
        {
          "output_type": "execute_result",
          "data": {
            "text/plain": [
              "  host_is_superhost host_has_profile_pic host_identity_verified  \\\n",
              "0                 f                    t                      t   \n",
              "1                 f                    t                      t   \n",
              "2                 t                    t                      t   \n",
              "3                 f                    t                      t   \n",
              "4                 f                    t                      t   \n",
              "\n",
              "  has_availability instant_bookable  \n",
              "0                t                f  \n",
              "1                t                f  \n",
              "2                t                f  \n",
              "3                t                f  \n",
              "4                t                f  "
            ],
            "text/html": [
              "\n",
              "  <div id=\"df-825f674f-4b6c-4fa1-ab78-e4ba9d31aab8\">\n",
              "    <div class=\"colab-df-container\">\n",
              "      <div>\n",
              "<style scoped>\n",
              "    .dataframe tbody tr th:only-of-type {\n",
              "        vertical-align: middle;\n",
              "    }\n",
              "\n",
              "    .dataframe tbody tr th {\n",
              "        vertical-align: top;\n",
              "    }\n",
              "\n",
              "    .dataframe thead th {\n",
              "        text-align: right;\n",
              "    }\n",
              "</style>\n",
              "<table border=\"1\" class=\"dataframe\">\n",
              "  <thead>\n",
              "    <tr style=\"text-align: right;\">\n",
              "      <th></th>\n",
              "      <th>host_is_superhost</th>\n",
              "      <th>host_has_profile_pic</th>\n",
              "      <th>host_identity_verified</th>\n",
              "      <th>has_availability</th>\n",
              "      <th>instant_bookable</th>\n",
              "    </tr>\n",
              "  </thead>\n",
              "  <tbody>\n",
              "    <tr>\n",
              "      <th>0</th>\n",
              "      <td>f</td>\n",
              "      <td>t</td>\n",
              "      <td>t</td>\n",
              "      <td>t</td>\n",
              "      <td>f</td>\n",
              "    </tr>\n",
              "    <tr>\n",
              "      <th>1</th>\n",
              "      <td>f</td>\n",
              "      <td>t</td>\n",
              "      <td>t</td>\n",
              "      <td>t</td>\n",
              "      <td>f</td>\n",
              "    </tr>\n",
              "    <tr>\n",
              "      <th>2</th>\n",
              "      <td>t</td>\n",
              "      <td>t</td>\n",
              "      <td>t</td>\n",
              "      <td>t</td>\n",
              "      <td>f</td>\n",
              "    </tr>\n",
              "    <tr>\n",
              "      <th>3</th>\n",
              "      <td>f</td>\n",
              "      <td>t</td>\n",
              "      <td>t</td>\n",
              "      <td>t</td>\n",
              "      <td>f</td>\n",
              "    </tr>\n",
              "    <tr>\n",
              "      <th>4</th>\n",
              "      <td>f</td>\n",
              "      <td>t</td>\n",
              "      <td>t</td>\n",
              "      <td>t</td>\n",
              "      <td>f</td>\n",
              "    </tr>\n",
              "  </tbody>\n",
              "</table>\n",
              "</div>\n",
              "      <button class=\"colab-df-convert\" onclick=\"convertToInteractive('df-825f674f-4b6c-4fa1-ab78-e4ba9d31aab8')\"\n",
              "              title=\"Convert this dataframe to an interactive table.\"\n",
              "              style=\"display:none;\">\n",
              "        \n",
              "  <svg xmlns=\"http://www.w3.org/2000/svg\" height=\"24px\"viewBox=\"0 0 24 24\"\n",
              "       width=\"24px\">\n",
              "    <path d=\"M0 0h24v24H0V0z\" fill=\"none\"/>\n",
              "    <path d=\"M18.56 5.44l.94 2.06.94-2.06 2.06-.94-2.06-.94-.94-2.06-.94 2.06-2.06.94zm-11 1L8.5 8.5l.94-2.06 2.06-.94-2.06-.94L8.5 2.5l-.94 2.06-2.06.94zm10 10l.94 2.06.94-2.06 2.06-.94-2.06-.94-.94-2.06-.94 2.06-2.06.94z\"/><path d=\"M17.41 7.96l-1.37-1.37c-.4-.4-.92-.59-1.43-.59-.52 0-1.04.2-1.43.59L10.3 9.45l-7.72 7.72c-.78.78-.78 2.05 0 2.83L4 21.41c.39.39.9.59 1.41.59.51 0 1.02-.2 1.41-.59l7.78-7.78 2.81-2.81c.8-.78.8-2.07 0-2.86zM5.41 20L4 18.59l7.72-7.72 1.47 1.35L5.41 20z\"/>\n",
              "  </svg>\n",
              "      </button>\n",
              "      \n",
              "  <style>\n",
              "    .colab-df-container {\n",
              "      display:flex;\n",
              "      flex-wrap:wrap;\n",
              "      gap: 12px;\n",
              "    }\n",
              "\n",
              "    .colab-df-convert {\n",
              "      background-color: #E8F0FE;\n",
              "      border: none;\n",
              "      border-radius: 50%;\n",
              "      cursor: pointer;\n",
              "      display: none;\n",
              "      fill: #1967D2;\n",
              "      height: 32px;\n",
              "      padding: 0 0 0 0;\n",
              "      width: 32px;\n",
              "    }\n",
              "\n",
              "    .colab-df-convert:hover {\n",
              "      background-color: #E2EBFA;\n",
              "      box-shadow: 0px 1px 2px rgba(60, 64, 67, 0.3), 0px 1px 3px 1px rgba(60, 64, 67, 0.15);\n",
              "      fill: #174EA6;\n",
              "    }\n",
              "\n",
              "    [theme=dark] .colab-df-convert {\n",
              "      background-color: #3B4455;\n",
              "      fill: #D2E3FC;\n",
              "    }\n",
              "\n",
              "    [theme=dark] .colab-df-convert:hover {\n",
              "      background-color: #434B5C;\n",
              "      box-shadow: 0px 1px 3px 1px rgba(0, 0, 0, 0.15);\n",
              "      filter: drop-shadow(0px 1px 2px rgba(0, 0, 0, 0.3));\n",
              "      fill: #FFFFFF;\n",
              "    }\n",
              "  </style>\n",
              "\n",
              "      <script>\n",
              "        const buttonEl =\n",
              "          document.querySelector('#df-825f674f-4b6c-4fa1-ab78-e4ba9d31aab8 button.colab-df-convert');\n",
              "        buttonEl.style.display =\n",
              "          google.colab.kernel.accessAllowed ? 'block' : 'none';\n",
              "\n",
              "        async function convertToInteractive(key) {\n",
              "          const element = document.querySelector('#df-825f674f-4b6c-4fa1-ab78-e4ba9d31aab8');\n",
              "          const dataTable =\n",
              "            await google.colab.kernel.invokeFunction('convertToInteractive',\n",
              "                                                     [key], {});\n",
              "          if (!dataTable) return;\n",
              "\n",
              "          const docLinkHtml = 'Like what you see? Visit the ' +\n",
              "            '<a target=\"_blank\" href=https://colab.research.google.com/notebooks/data_table.ipynb>data table notebook</a>'\n",
              "            + ' to learn more about interactive tables.';\n",
              "          element.innerHTML = '';\n",
              "          dataTable['output_type'] = 'display_data';\n",
              "          await google.colab.output.renderOutput(dataTable, element);\n",
              "          const docLink = document.createElement('div');\n",
              "          docLink.innerHTML = docLinkHtml;\n",
              "          element.appendChild(docLink);\n",
              "        }\n",
              "      </script>\n",
              "    </div>\n",
              "  </div>\n",
              "  "
            ]
          },
          "metadata": {},
          "execution_count": 18
        }
      ]
    },
    {
      "cell_type": "code",
      "source": [
        "#for col in bi_cols:\n",
        "    #dtyped_df[col] = dtyped_df[col].map({'f': 0, 't': 1})"
      ],
      "metadata": {
        "id": "0MTwgBF9QXTZ"
      },
      "id": "0MTwgBF9QXTZ",
      "execution_count": null,
      "outputs": []
    },
    {
      "cell_type": "code",
      "source": [
        "fdf1=dtyped_df"
      ],
      "metadata": {
        "id": "6_-9S_lMTrom"
      },
      "id": "6_-9S_lMTrom",
      "execution_count": null,
      "outputs": []
    },
    {
      "cell_type": "code",
      "source": [
        "#fdf1.amenities.unique"
      ],
      "metadata": {
        "id": "9-IG61uPTr1B"
      },
      "id": "9-IG61uPTr1B",
      "execution_count": null,
      "outputs": []
    },
    {
      "cell_type": "code",
      "source": [],
      "metadata": {
        "id": "u3HcJclavLf0"
      },
      "id": "u3HcJclavLf0",
      "execution_count": null,
      "outputs": []
    },
    {
      "cell_type": "code",
      "source": [],
      "metadata": {
        "id": "SMCrekl6vLrh"
      },
      "id": "SMCrekl6vLrh",
      "execution_count": null,
      "outputs": []
    },
    {
      "cell_type": "code",
      "source": [
        "#def striplist(l):\n",
        "    #return([x.strip() for x in l])\n",
        "\n",
        "\n",
        "#fdf1['host_verifications'] =fdf1['host_verifications'].str.replace('[', '').str.replace(']', '').str.replace(\"'\",'').str.lower().str.split(',').apply(striplist)\n",
        "                                                                                                                  "
      ],
      "metadata": {
        "id": "6bU5D8baTsBp"
      },
      "id": "6bU5D8baTsBp",
      "execution_count": null,
      "outputs": []
    },
    {
      "cell_type": "code",
      "source": [
        "#fdf1['amenities'] = fdf1['amenities'].str.replace('{', '').str.replace('}','').str.replace('\"', '').str.lower().str.split(',').apply(striplist)\n",
        "                                                                           "
      ],
      "metadata": {
        "colab": {
          "base_uri": "https://localhost:8080/"
        },
        "id": "6z9wct5JU-Vz",
        "outputId": "6e04eaa1-a7e6-4146-bf89-bf003bbce215"
      },
      "id": "6z9wct5JU-Vz",
      "execution_count": null,
      "outputs": [
        {
          "output_type": "stream",
          "name": "stderr",
          "text": [
            "/usr/local/lib/python3.7/dist-packages/ipykernel_launcher.py:1: FutureWarning: The default value of regex will change from True to False in a future version. In addition, single character regular expressions will *not* be treated as literal strings when regex=True.\n",
            "  \"\"\"Entry point for launching an IPython kernel.\n"
          ]
        }
      ]
    },
    {
      "cell_type": "code",
      "source": [
        "#from sklearn.preprocessing import MultiLabelBinarizer, StandardScaler\n",
        "#mlb = MultiLabelBinarizer()\n",
        "#amenities_df = pd.DataFrame(mlb.fit_transform(fdf1['amenities']), columns=mlb.classes_, index=fdf1.index)"
      ],
      "metadata": {
        "id": "g-FzYeJkU-gP"
      },
      "id": "g-FzYeJkU-gP",
      "execution_count": null,
      "outputs": []
    },
    {
      "cell_type": "code",
      "source": [
        "#amenities_df"
      ],
      "metadata": {
        "id": "KKVoPn-mU-jz"
      },
      "id": "KKVoPn-mU-jz",
      "execution_count": null,
      "outputs": []
    },
    {
      "cell_type": "code",
      "source": [
        "#host_verif_df = pd.DataFrame(mlb.fit_transform(fdf1['host_verifications']), columns=mlb.classes_, index=fdf1.index)"
      ],
      "metadata": {
        "id": "Ebg5b7TiU-m0"
      },
      "id": "Ebg5b7TiU-m0",
      "execution_count": null,
      "outputs": []
    },
    {
      "cell_type": "code",
      "source": [
        "#host_verif_df = host_verif_df.drop(axis=1, labels=[''])\n"
      ],
      "metadata": {
        "id": "vdGhs4aFU-qP"
      },
      "id": "vdGhs4aFU-qP",
      "execution_count": null,
      "outputs": []
    },
    {
      "cell_type": "code",
      "source": [
        "#amenities_df = amenities_df.drop(axis=1, labels=[''])"
      ],
      "metadata": {
        "id": "bKdJ0tLlyZba"
      },
      "id": "bKdJ0tLlyZba",
      "execution_count": null,
      "outputs": []
    },
    {
      "cell_type": "code",
      "source": [
        "#fdf2 = fdf1.drop(['host_verifications', 'amenities'], axis=1)"
      ],
      "metadata": {
        "id": "ZIuzJlgryBUP"
      },
      "id": "ZIuzJlgryBUP",
      "execution_count": null,
      "outputs": []
    },
    {
      "cell_type": "code",
      "source": [
        "#fdf3 = pd.concat([fdf1, amenities_df, host_verif_df], axis=1)"
      ],
      "metadata": {
        "id": "roA888c0yBcb"
      },
      "id": "roA888c0yBcb",
      "execution_count": null,
      "outputs": []
    },
    {
      "cell_type": "code",
      "source": [
        "#fdf1['first_review'] = pd.to_datetime(fdf1['first_review']) \n",
        "#fdf1['last_review'] = pd.to_datetime(fdf1#['last_review']) "
      ],
      "metadata": {
        "id": "3bNsXvdDORRB"
      },
      "id": "3bNsXvdDORRB",
      "execution_count": null,
      "outputs": []
    },
    {
      "cell_type": "code",
      "source": [],
      "metadata": {
        "id": "HRaWEOSmQeHM"
      },
      "id": "HRaWEOSmQeHM",
      "execution_count": null,
      "outputs": []
    },
    {
      "cell_type": "code",
      "source": [
        "# identify columns with numeric values\n",
        "#fdf1.select_dtypes(include = ['bool']).columns"
      ],
      "metadata": {
        "colab": {
          "base_uri": "https://localhost:8080/"
        },
        "id": "WXa7vNWaPCmv",
        "outputId": "9fea7a1e-8ea9-47ac-d1a0-6a8ed0f4d877"
      },
      "id": "WXa7vNWaPCmv",
      "execution_count": null,
      "outputs": [
        {
          "output_type": "execute_result",
          "data": {
            "text/plain": [
              "Index([], dtype='object')"
            ]
          },
          "metadata": {},
          "execution_count": 22
        }
      ]
    },
    {
      "cell_type": "code",
      "source": [
        "fdf1.shape"
      ],
      "metadata": {
        "colab": {
          "base_uri": "https://localhost:8080/"
        },
        "id": "wuDLumNwx_RW",
        "outputId": "d6f97f4c-3454-424a-cfee-5c1a41cf3f75"
      },
      "id": "wuDLumNwx_RW",
      "execution_count": null,
      "outputs": [
        {
          "output_type": "execute_result",
          "data": {
            "text/plain": [
              "(148797, 49)"
            ]
          },
          "metadata": {},
          "execution_count": 155
        }
      ]
    },
    {
      "cell_type": "code",
      "source": [
        "fdf1.isnull().sum()/len(fdf)"
      ],
      "metadata": {
        "colab": {
          "base_uri": "https://localhost:8080/"
        },
        "id": "cK3CdC2sQjng",
        "outputId": "051866c5-3896-4dd9-f769-547636b961f4"
      },
      "id": "cK3CdC2sQjng",
      "execution_count": null,
      "outputs": [
        {
          "output_type": "execute_result",
          "data": {
            "text/plain": [
              "id                                              0.0\n",
              "host_id                                         0.0\n",
              "host_listings_count                             0.0\n",
              "host_total_listings_count                       0.0\n",
              "accommodates                                    0.0\n",
              "bedrooms                                        0.0\n",
              "beds                                            0.0\n",
              "minimum_nights                                  0.0\n",
              "maximum_nights                                  0.0\n",
              "minimum_minimum_nights                          0.0\n",
              "number_of_reviews                               0.0\n",
              "number_of_reviews_ltm                           0.0\n",
              "number_of_reviews_l30d                          0.0\n",
              "review_scores_rating                            0.0\n",
              "review_scores_accuracy                          0.0\n",
              "review_scores_cleanliness                       0.0\n",
              "review_scores_checkin                           0.0\n",
              "review_scores_communication                     0.0\n",
              "review_scores_location                          0.0\n",
              "review_scores_value                             0.0\n",
              "calculated_host_listings_count                  0.0\n",
              "calculated_host_listings_count_entire_homes     0.0\n",
              "calculated_host_listings_count_private_rooms    0.0\n",
              "calculated_host_listings_count_shared_rooms     0.0\n",
              "reviews_per_month                               0.0\n",
              "name                                            0.0\n",
              "description                                     0.0\n",
              "neighborhood_overview                           0.0\n",
              "host_name                                       0.0\n",
              "host_since                                      0.0\n",
              "host_location                                   0.0\n",
              "host_response_time                              0.0\n",
              "host_response_rate                              0.0\n",
              "host_acceptance_rate                            0.0\n",
              "host_is_superhost                               0.0\n",
              "host_neighbourhood                              0.0\n",
              "host_verifications                              0.0\n",
              "host_has_profile_pic                            0.0\n",
              "host_identity_verified                          0.0\n",
              "neighbourhood                                   0.0\n",
              "neighbourhood_cleansed                          0.0\n",
              "neighbourhood_group_cleansed                    0.0\n",
              "property_type                                   0.0\n",
              "room_type                                       0.0\n",
              "bathrooms_text                                  0.0\n",
              "amenities                                       0.0\n",
              "price                                           0.0\n",
              "has_availability                                0.0\n",
              "instant_bookable                                0.0\n",
              "dtype: float64"
            ]
          },
          "metadata": {},
          "execution_count": 156
        }
      ]
    },
    {
      "cell_type": "code",
      "source": [
        "fdf1.isnull().sum()"
      ],
      "metadata": {
        "colab": {
          "base_uri": "https://localhost:8080/"
        },
        "id": "y0rfniB9Rkyc",
        "outputId": "0b512701-0603-46d2-d938-8fb849d8b642"
      },
      "id": "y0rfniB9Rkyc",
      "execution_count": null,
      "outputs": [
        {
          "output_type": "execute_result",
          "data": {
            "text/plain": [
              "id                                              0\n",
              "host_id                                         0\n",
              "host_listings_count                             0\n",
              "host_total_listings_count                       0\n",
              "accommodates                                    0\n",
              "bedrooms                                        0\n",
              "beds                                            0\n",
              "minimum_nights                                  0\n",
              "maximum_nights                                  0\n",
              "minimum_minimum_nights                          0\n",
              "number_of_reviews                               0\n",
              "number_of_reviews_ltm                           0\n",
              "number_of_reviews_l30d                          0\n",
              "review_scores_rating                            0\n",
              "review_scores_accuracy                          0\n",
              "review_scores_cleanliness                       0\n",
              "review_scores_checkin                           0\n",
              "review_scores_communication                     0\n",
              "review_scores_location                          0\n",
              "review_scores_value                             0\n",
              "calculated_host_listings_count                  0\n",
              "calculated_host_listings_count_entire_homes     0\n",
              "calculated_host_listings_count_private_rooms    0\n",
              "calculated_host_listings_count_shared_rooms     0\n",
              "reviews_per_month                               0\n",
              "name                                            0\n",
              "description                                     0\n",
              "neighborhood_overview                           0\n",
              "host_name                                       0\n",
              "host_since                                      0\n",
              "host_location                                   0\n",
              "host_response_time                              0\n",
              "host_response_rate                              0\n",
              "host_acceptance_rate                            0\n",
              "host_is_superhost                               0\n",
              "host_neighbourhood                              0\n",
              "host_verifications                              0\n",
              "host_has_profile_pic                            0\n",
              "host_identity_verified                          0\n",
              "neighbourhood                                   0\n",
              "neighbourhood_cleansed                          0\n",
              "neighbourhood_group_cleansed                    0\n",
              "property_type                                   0\n",
              "room_type                                       0\n",
              "bathrooms_text                                  0\n",
              "amenities                                       0\n",
              "price                                           0\n",
              "has_availability                                0\n",
              "instant_bookable                                0\n",
              "dtype: int64"
            ]
          },
          "metadata": {},
          "execution_count": 43
        }
      ]
    },
    {
      "cell_type": "code",
      "source": [
        "fdf1.info()"
      ],
      "metadata": {
        "colab": {
          "base_uri": "https://localhost:8080/"
        },
        "id": "dLiC8_wQ1I7z",
        "outputId": "4fe178e5-c822-4a12-bba9-7a49a9ce2ea9"
      },
      "id": "dLiC8_wQ1I7z",
      "execution_count": null,
      "outputs": [
        {
          "output_type": "stream",
          "name": "stdout",
          "text": [
            "<class 'pandas.core.frame.DataFrame'>\n",
            "Int64Index: 153199 entries, 0 to 37409\n",
            "Data columns (total 49 columns):\n",
            " #   Column                                        Non-Null Count   Dtype  \n",
            "---  ------                                        --------------   -----  \n",
            " 0   id                                            153199 non-null  int64  \n",
            " 1   host_id                                       153199 non-null  int64  \n",
            " 2   host_listings_count                           152962 non-null  float64\n",
            " 3   host_total_listings_count                     152962 non-null  float64\n",
            " 4   accommodates                                  153199 non-null  int64  \n",
            " 5   bedrooms                                      137989 non-null  float64\n",
            " 6   beds                                          147990 non-null  float64\n",
            " 7   minimum_nights                                153199 non-null  int64  \n",
            " 8   maximum_nights                                153199 non-null  int64  \n",
            " 9   minimum_minimum_nights                        153134 non-null  float64\n",
            " 10  number_of_reviews                             153199 non-null  int64  \n",
            " 11  number_of_reviews_ltm                         153199 non-null  int64  \n",
            " 12  number_of_reviews_l30d                        153199 non-null  int64  \n",
            " 13  review_scores_rating                          118410 non-null  float64\n",
            " 14  review_scores_accuracy                        116347 non-null  float64\n",
            " 15  review_scores_cleanliness                     116388 non-null  float64\n",
            " 16  review_scores_checkin                         116327 non-null  float64\n",
            " 17  review_scores_communication                   116365 non-null  float64\n",
            " 18  review_scores_location                        116315 non-null  float64\n",
            " 19  review_scores_value                           116313 non-null  float64\n",
            " 20  calculated_host_listings_count                153199 non-null  int64  \n",
            " 21  calculated_host_listings_count_entire_homes   153199 non-null  int64  \n",
            " 22  calculated_host_listings_count_private_rooms  153199 non-null  int64  \n",
            " 23  calculated_host_listings_count_shared_rooms   153199 non-null  int64  \n",
            " 24  reviews_per_month                             118410 non-null  float64\n",
            " 25  name                                          153145 non-null  object \n",
            " 26  description                                   149268 non-null  object \n",
            " 27  neighborhood_overview                         90954 non-null   object \n",
            " 28  host_name                                     152962 non-null  object \n",
            " 29  host_since                                    152962 non-null  object \n",
            " 30  host_location                                 145829 non-null  object \n",
            " 31  host_response_time                            94929 non-null   object \n",
            " 32  host_response_rate                            94929 non-null   float64\n",
            " 33  host_acceptance_rate                          100648 non-null  float64\n",
            " 34  host_is_superhost                             152983 non-null  float64\n",
            " 35  host_neighbourhood                            122416 non-null  object \n",
            " 36  host_verifications                            153199 non-null  object \n",
            " 37  host_has_profile_pic                          152962 non-null  float64\n",
            " 38  host_identity_verified                        152962 non-null  float64\n",
            " 39  neighbourhood                                 90958 non-null   object \n",
            " 40  neighbourhood_cleansed                        153199 non-null  object \n",
            " 41  neighbourhood_group_cleansed                  153199 non-null  object \n",
            " 42  property_type                                 153199 non-null  object \n",
            " 43  room_type                                     153199 non-null  object \n",
            " 44  bathrooms_text                                152831 non-null  object \n",
            " 45  amenities                                     153199 non-null  object \n",
            " 46  price                                         153199 non-null  float64\n",
            " 47  has_availability                              153199 non-null  int64  \n",
            " 48  instant_bookable                              153199 non-null  int64  \n",
            "dtypes: float64(19), int64(14), object(16)\n",
            "memory usage: 58.4+ MB\n"
          ]
        }
      ]
    },
    {
      "cell_type": "code",
      "source": [
        "import numpy as np\n",
        "from numpy import mean\n",
        "\n",
        "\n",
        "mean = ['review_scores_accuracy', 'review_scores_checkin', 'review_scores_location',\n",
        "                   'review_scores_value', 'review_scores_cleanliness','review_scores_communication',\n",
        "                  'review_scores_rating']\n",
        "\n",
        "for x in mean:\n",
        "    fdf1[x] =np.where(fdf1[x].isnull(), fdf1[x].mean(), fdf1[x]) "
      ],
      "metadata": {
        "id": "PqHPEO0vT5Dc"
      },
      "id": "PqHPEO0vT5Dc",
      "execution_count": null,
      "outputs": []
    },
    {
      "cell_type": "code",
      "source": [
        "# change null reviews_per_month, host_acceptance_rate  to 0\n",
        "\n",
        "fill_in_missing = ['host_listings_count',\n",
        "                  'reviews_per_month', 'host_acceptance_rate', 'host_total_listings_count']\n",
        "\n",
        "for miss in fill_in_missing:\n",
        "    fdf1[miss] =np.where(fdf1[miss].isnull(), 0, fdf1[miss])"
      ],
      "metadata": {
        "id": "n7VZ3XspRk6f"
      },
      "id": "n7VZ3XspRk6f",
      "execution_count": null,
      "outputs": []
    },
    {
      "cell_type": "code",
      "source": [
        "fdf1.host_response_time.unique"
      ],
      "metadata": {
        "colab": {
          "base_uri": "https://localhost:8080/"
        },
        "id": "d-gh-xHbaf6X",
        "outputId": "1c1c5341-4cc1-4753-8a24-076e31886d90"
      },
      "id": "d-gh-xHbaf6X",
      "execution_count": null,
      "outputs": [
        {
          "output_type": "execute_result",
          "data": {
            "text/plain": [
              "<bound method Series.unique of 0            within an hour\n",
              "1              within a day\n",
              "2            within an hour\n",
              "3            within an hour\n",
              "4                       NaN\n",
              "                ...        \n",
              "37405        within an hour\n",
              "37406        within an hour\n",
              "37407        within an hour\n",
              "37408        within an hour\n",
              "37409    within a few hours\n",
              "Name: host_response_time, Length: 153199, dtype: object>"
            ]
          },
          "metadata": {},
          "execution_count": 29
        }
      ]
    },
    {
      "cell_type": "code",
      "source": [
        "fdf1.host_response_time.value_counts()"
      ],
      "metadata": {
        "colab": {
          "base_uri": "https://localhost:8080/"
        },
        "id": "6y4cgDbgSsNb",
        "outputId": "eb2f2a03-439c-47f4-bd90-ac08bd906c48"
      },
      "id": "6y4cgDbgSsNb",
      "execution_count": null,
      "outputs": [
        {
          "output_type": "execute_result",
          "data": {
            "text/plain": [
              "within an hour        113948\n",
              "within a few hours     22062\n",
              "within a day           12939\n",
              "a few days or more      4250\n",
              "Name: host_response_time, dtype: int64"
            ]
          },
          "metadata": {},
          "execution_count": 37
        }
      ]
    },
    {
      "cell_type": "code",
      "source": [
        "pd.set_option('display.max_columns',None)\n",
        "fdf1.describe()"
      ],
      "metadata": {
        "id": "eQSj-j3NTGDH"
      },
      "id": "eQSj-j3NTGDH",
      "execution_count": null,
      "outputs": []
    },
    {
      "cell_type": "code",
      "source": [
        "fdf1.host_response_time.mode()"
      ],
      "metadata": {
        "colab": {
          "base_uri": "https://localhost:8080/"
        },
        "id": "iIq2Twf3TWjK",
        "outputId": "63379a19-2c42-407f-dcd3-35cc9c62db4f"
      },
      "id": "iIq2Twf3TWjK",
      "execution_count": null,
      "outputs": [
        {
          "output_type": "execute_result",
          "data": {
            "text/plain": [
              "0    within an hour\n",
              "dtype: object"
            ]
          },
          "metadata": {},
          "execution_count": 34
        }
      ]
    },
    {
      "cell_type": "code",
      "source": [
        "mode = ['host_response_time']\n",
        "\n",
        "for x in mode:\n",
        "    fdf1[x] =np.where(fdf1[x].isnull(), fdf1[x].mode(), fdf1[x]) "
      ],
      "metadata": {
        "id": "qxZ9GVqgTfW6"
      },
      "id": "qxZ9GVqgTfW6",
      "execution_count": null,
      "outputs": []
    },
    {
      "cell_type": "code",
      "source": [
        "# change null host_response_rate to 999,discard during analsis \n",
        "\n",
        "fill_in = ['host_response_rate']\n",
        "\n",
        "for a in fill_in:\n",
        "    fdf1[a] =np.where(fdf1[a].isnull(), 9999, fdf1[a])  "
      ],
      "metadata": {
        "id": "eF4nCincahRM"
      },
      "id": "eF4nCincahRM",
      "execution_count": null,
      "outputs": []
    },
    {
      "cell_type": "code",
      "source": [
        "# change missing neighbourhood, host_neighbourhood, host_location and to \"Unknown\"\n",
        "\n",
        "fill2 = ['neighbourhood', 'host_neighbourhood', 'host_location','neighborhood_overview']\n",
        "\n",
        "for var in fill2:\n",
        "    fdf1[var] =np.where(fdf1[var].isnull(), 'Unknown', fdf1[var])  "
      ],
      "metadata": {
        "id": "USfSvanQahbJ"
      },
      "id": "USfSvanQahbJ",
      "execution_count": null,
      "outputs": []
    },
    {
      "cell_type": "code",
      "source": [
        "# Replace missing values with 1. It is unlikely there are zero bathrooms, bedrooms or beds in a listing. Assume there is at least 1\n",
        "\n",
        "fill3 = ['bedrooms', 'beds' ]\n",
        "\n",
        "for v in fill3:\n",
        "    fdf1[v] =np.where(fdf1[v].isnull(), 1, fdf1[v])  "
      ],
      "metadata": {
        "id": "XQE35cV3usdE"
      },
      "id": "XQE35cV3usdE",
      "execution_count": null,
      "outputs": []
    },
    {
      "cell_type": "code",
      "source": [
        "fdf1=fdf1.dropna().reset_index(drop=True)#(148797, 49)"
      ],
      "metadata": {
        "id": "fBjO4V2Husf7"
      },
      "id": "fBjO4V2Husf7",
      "execution_count": null,
      "outputs": []
    },
    {
      "cell_type": "code",
      "source": [
        "dummy1=pd.get_dummies(fdf1[['host_response_time']],drop_first=True)\n",
        "dummy1.describe()"
      ],
      "metadata": {
        "colab": {
          "base_uri": "https://localhost:8080/",
          "height": 300
        },
        "id": "6Ol0_Q-busmC",
        "outputId": "6179927c-6912-44cd-b82e-016f61b6bcc3"
      },
      "id": "6Ol0_Q-busmC",
      "execution_count": null,
      "outputs": [
        {
          "output_type": "execute_result",
          "data": {
            "text/plain": [
              "       host_response_time_within a day  host_response_time_within a few hours  \\\n",
              "count                    148797.000000                          148797.000000   \n",
              "mean                          0.084881                               0.146011   \n",
              "std                           0.278705                               0.353118   \n",
              "min                           0.000000                               0.000000   \n",
              "25%                           0.000000                               0.000000   \n",
              "50%                           0.000000                               0.000000   \n",
              "75%                           0.000000                               0.000000   \n",
              "max                           1.000000                               1.000000   \n",
              "\n",
              "       host_response_time_within an hour  \n",
              "count                      148797.000000  \n",
              "mean                            0.742233  \n",
              "std                             0.437407  \n",
              "min                             0.000000  \n",
              "25%                             0.000000  \n",
              "50%                             1.000000  \n",
              "75%                             1.000000  \n",
              "max                             1.000000  "
            ],
            "text/html": [
              "\n",
              "  <div id=\"df-9df109c5-b0a7-4134-ad96-aa9548468dad\">\n",
              "    <div class=\"colab-df-container\">\n",
              "      <div>\n",
              "<style scoped>\n",
              "    .dataframe tbody tr th:only-of-type {\n",
              "        vertical-align: middle;\n",
              "    }\n",
              "\n",
              "    .dataframe tbody tr th {\n",
              "        vertical-align: top;\n",
              "    }\n",
              "\n",
              "    .dataframe thead th {\n",
              "        text-align: right;\n",
              "    }\n",
              "</style>\n",
              "<table border=\"1\" class=\"dataframe\">\n",
              "  <thead>\n",
              "    <tr style=\"text-align: right;\">\n",
              "      <th></th>\n",
              "      <th>host_response_time_within a day</th>\n",
              "      <th>host_response_time_within a few hours</th>\n",
              "      <th>host_response_time_within an hour</th>\n",
              "    </tr>\n",
              "  </thead>\n",
              "  <tbody>\n",
              "    <tr>\n",
              "      <th>count</th>\n",
              "      <td>148797.000000</td>\n",
              "      <td>148797.000000</td>\n",
              "      <td>148797.000000</td>\n",
              "    </tr>\n",
              "    <tr>\n",
              "      <th>mean</th>\n",
              "      <td>0.084881</td>\n",
              "      <td>0.146011</td>\n",
              "      <td>0.742233</td>\n",
              "    </tr>\n",
              "    <tr>\n",
              "      <th>std</th>\n",
              "      <td>0.278705</td>\n",
              "      <td>0.353118</td>\n",
              "      <td>0.437407</td>\n",
              "    </tr>\n",
              "    <tr>\n",
              "      <th>min</th>\n",
              "      <td>0.000000</td>\n",
              "      <td>0.000000</td>\n",
              "      <td>0.000000</td>\n",
              "    </tr>\n",
              "    <tr>\n",
              "      <th>25%</th>\n",
              "      <td>0.000000</td>\n",
              "      <td>0.000000</td>\n",
              "      <td>0.000000</td>\n",
              "    </tr>\n",
              "    <tr>\n",
              "      <th>50%</th>\n",
              "      <td>0.000000</td>\n",
              "      <td>0.000000</td>\n",
              "      <td>1.000000</td>\n",
              "    </tr>\n",
              "    <tr>\n",
              "      <th>75%</th>\n",
              "      <td>0.000000</td>\n",
              "      <td>0.000000</td>\n",
              "      <td>1.000000</td>\n",
              "    </tr>\n",
              "    <tr>\n",
              "      <th>max</th>\n",
              "      <td>1.000000</td>\n",
              "      <td>1.000000</td>\n",
              "      <td>1.000000</td>\n",
              "    </tr>\n",
              "  </tbody>\n",
              "</table>\n",
              "</div>\n",
              "      <button class=\"colab-df-convert\" onclick=\"convertToInteractive('df-9df109c5-b0a7-4134-ad96-aa9548468dad')\"\n",
              "              title=\"Convert this dataframe to an interactive table.\"\n",
              "              style=\"display:none;\">\n",
              "        \n",
              "  <svg xmlns=\"http://www.w3.org/2000/svg\" height=\"24px\"viewBox=\"0 0 24 24\"\n",
              "       width=\"24px\">\n",
              "    <path d=\"M0 0h24v24H0V0z\" fill=\"none\"/>\n",
              "    <path d=\"M18.56 5.44l.94 2.06.94-2.06 2.06-.94-2.06-.94-.94-2.06-.94 2.06-2.06.94zm-11 1L8.5 8.5l.94-2.06 2.06-.94-2.06-.94L8.5 2.5l-.94 2.06-2.06.94zm10 10l.94 2.06.94-2.06 2.06-.94-2.06-.94-.94-2.06-.94 2.06-2.06.94z\"/><path d=\"M17.41 7.96l-1.37-1.37c-.4-.4-.92-.59-1.43-.59-.52 0-1.04.2-1.43.59L10.3 9.45l-7.72 7.72c-.78.78-.78 2.05 0 2.83L4 21.41c.39.39.9.59 1.41.59.51 0 1.02-.2 1.41-.59l7.78-7.78 2.81-2.81c.8-.78.8-2.07 0-2.86zM5.41 20L4 18.59l7.72-7.72 1.47 1.35L5.41 20z\"/>\n",
              "  </svg>\n",
              "      </button>\n",
              "      \n",
              "  <style>\n",
              "    .colab-df-container {\n",
              "      display:flex;\n",
              "      flex-wrap:wrap;\n",
              "      gap: 12px;\n",
              "    }\n",
              "\n",
              "    .colab-df-convert {\n",
              "      background-color: #E8F0FE;\n",
              "      border: none;\n",
              "      border-radius: 50%;\n",
              "      cursor: pointer;\n",
              "      display: none;\n",
              "      fill: #1967D2;\n",
              "      height: 32px;\n",
              "      padding: 0 0 0 0;\n",
              "      width: 32px;\n",
              "    }\n",
              "\n",
              "    .colab-df-convert:hover {\n",
              "      background-color: #E2EBFA;\n",
              "      box-shadow: 0px 1px 2px rgba(60, 64, 67, 0.3), 0px 1px 3px 1px rgba(60, 64, 67, 0.15);\n",
              "      fill: #174EA6;\n",
              "    }\n",
              "\n",
              "    [theme=dark] .colab-df-convert {\n",
              "      background-color: #3B4455;\n",
              "      fill: #D2E3FC;\n",
              "    }\n",
              "\n",
              "    [theme=dark] .colab-df-convert:hover {\n",
              "      background-color: #434B5C;\n",
              "      box-shadow: 0px 1px 3px 1px rgba(0, 0, 0, 0.15);\n",
              "      filter: drop-shadow(0px 1px 2px rgba(0, 0, 0, 0.3));\n",
              "      fill: #FFFFFF;\n",
              "    }\n",
              "  </style>\n",
              "\n",
              "      <script>\n",
              "        const buttonEl =\n",
              "          document.querySelector('#df-9df109c5-b0a7-4134-ad96-aa9548468dad button.colab-df-convert');\n",
              "        buttonEl.style.display =\n",
              "          google.colab.kernel.accessAllowed ? 'block' : 'none';\n",
              "\n",
              "        async function convertToInteractive(key) {\n",
              "          const element = document.querySelector('#df-9df109c5-b0a7-4134-ad96-aa9548468dad');\n",
              "          const dataTable =\n",
              "            await google.colab.kernel.invokeFunction('convertToInteractive',\n",
              "                                                     [key], {});\n",
              "          if (!dataTable) return;\n",
              "\n",
              "          const docLinkHtml = 'Like what you see? Visit the ' +\n",
              "            '<a target=\"_blank\" href=https://colab.research.google.com/notebooks/data_table.ipynb>data table notebook</a>'\n",
              "            + ' to learn more about interactive tables.';\n",
              "          element.innerHTML = '';\n",
              "          dataTable['output_type'] = 'display_data';\n",
              "          await google.colab.output.renderOutput(dataTable, element);\n",
              "          const docLink = document.createElement('div');\n",
              "          docLink.innerHTML = docLinkHtml;\n",
              "          element.appendChild(docLink);\n",
              "        }\n",
              "      </script>\n",
              "    </div>\n",
              "  </div>\n",
              "  "
            ]
          },
          "metadata": {},
          "execution_count": 42
        }
      ]
    },
    {
      "cell_type": "code",
      "source": [
        "fdf2=pd.concat([fdf1,dummy1],axis=1)\n",
        "fdf2.describe(include='all')         "
      ],
      "metadata": {
        "colab": {
          "base_uri": "https://localhost:8080/",
          "height": 545
        },
        "id": "TO-lcumhUNeA",
        "outputId": "bab1bb60-b3d0-486c-c8cb-a5c4e569bee1"
      },
      "id": "TO-lcumhUNeA",
      "execution_count": null,
      "outputs": [
        {
          "output_type": "execute_result",
          "data": {
            "text/plain": [
              "                  id       host_id  host_listings_count  \\\n",
              "count   1.487970e+05  1.487970e+05        148797.000000   \n",
              "unique           NaN           NaN                  NaN   \n",
              "top              NaN           NaN                  NaN   \n",
              "freq             NaN           NaN                  NaN   \n",
              "mean    5.144066e+16  1.217684e+08            61.024120   \n",
              "std     1.706782e+17  1.378374e+08           385.184756   \n",
              "min     2.539000e+03  2.438000e+03             0.000000   \n",
              "25%     1.402802e+07  1.206176e+07             1.000000   \n",
              "50%     3.368462e+07  5.150184e+07             1.000000   \n",
              "75%     4.962995e+07  2.047046e+08             4.000000   \n",
              "max     7.098549e+17  4.782606e+08          4022.000000   \n",
              "\n",
              "        host_total_listings_count   accommodates       bedrooms  \\\n",
              "count               148797.000000  148797.000000  148797.000000   \n",
              "unique                        NaN            NaN            NaN   \n",
              "top                           NaN            NaN            NaN   \n",
              "freq                          NaN            NaN            NaN   \n",
              "mean                    67.148363       2.882672       1.312150   \n",
              "std                    427.939239       1.944009       0.696702   \n",
              "min                      0.000000       1.000000       1.000000   \n",
              "25%                      1.000000       2.000000       1.000000   \n",
              "50%                      1.000000       2.000000       1.000000   \n",
              "75%                      4.000000       4.000000       1.000000   \n",
              "max                   6958.000000      16.000000      16.000000   \n",
              "\n",
              "                 beds  minimum_nights  maximum_nights  minimum_minimum_nights  \\\n",
              "count   148797.000000   148797.000000    1.487970e+05           148797.000000   \n",
              "unique            NaN             NaN             NaN                     NaN   \n",
              "top               NaN             NaN             NaN                     NaN   \n",
              "freq              NaN             NaN             NaN                     NaN   \n",
              "mean         1.602479       20.181146    5.942576e+04               20.691916   \n",
              "std          1.106255       30.653709    1.113514e+07               38.275938   \n",
              "min          1.000000        1.000000    1.000000e+00                1.000000   \n",
              "25%          1.000000        2.000000    6.000000e+01                2.000000   \n",
              "50%          1.000000       30.000000    3.650000e+02               30.000000   \n",
              "75%          2.000000       30.000000    1.125000e+03               30.000000   \n",
              "max         42.000000     1250.000000    2.147484e+09             1250.000000   \n",
              "\n",
              "        number_of_reviews  number_of_reviews_ltm  number_of_reviews_l30d  \\\n",
              "count       148797.000000          148797.000000           148797.000000   \n",
              "unique                NaN                    NaN                     NaN   \n",
              "top                   NaN                    NaN                     NaN   \n",
              "freq                  NaN                    NaN                     NaN   \n",
              "mean            25.771017               6.607620                0.620792   \n",
              "std             54.270842              17.399304                1.749709   \n",
              "min              0.000000               0.000000                0.000000   \n",
              "25%              1.000000               0.000000                0.000000   \n",
              "50%              5.000000               0.000000                0.000000   \n",
              "75%             24.000000               5.000000                0.000000   \n",
              "max           1480.000000            1010.000000              160.000000   \n",
              "\n",
              "        review_scores_rating  review_scores_accuracy  \\\n",
              "count          148797.000000           148797.000000   \n",
              "unique                   NaN                     NaN   \n",
              "top                      NaN                     NaN   \n",
              "freq                     NaN                     NaN   \n",
              "mean                4.613051                4.749506   \n",
              "std                 0.677695                0.414122   \n",
              "min                 0.000000                0.000000   \n",
              "25%                 4.608960                4.747570   \n",
              "50%                 4.710000                4.800000   \n",
              "75%                 4.950000                5.000000   \n",
              "max                 5.000000                5.000000   \n",
              "\n",
              "        review_scores_cleanliness  review_scores_checkin  \\\n",
              "count               148797.000000          148797.000000   \n",
              "unique                        NaN                    NaN   \n",
              "top                           NaN                    NaN   \n",
              "freq                          NaN                    NaN   \n",
              "mean                     4.625227               4.816334   \n",
              "std                      0.484007               0.367110   \n",
              "min                      0.000000               0.000000   \n",
              "25%                      4.623031               4.814975   \n",
              "50%                      4.660000               4.880000   \n",
              "75%                      4.940000               5.000000   \n",
              "max                      5.000000               5.000000   \n",
              "\n",
              "        review_scores_communication  review_scores_location  \\\n",
              "count                 148797.000000           148797.000000   \n",
              "unique                          NaN                     NaN   \n",
              "top                             NaN                     NaN   \n",
              "freq                            NaN                     NaN   \n",
              "mean                       4.810132                4.747921   \n",
              "std                        0.388418                0.356208   \n",
              "min                        0.000000                0.000000   \n",
              "25%                        4.808163                4.740000   \n",
              "50%                        4.890000                4.750000   \n",
              "75%                        5.000000                5.000000   \n",
              "max                        5.000000                5.000000   \n",
              "\n",
              "        review_scores_value  calculated_host_listings_count  \\\n",
              "count         148797.000000                   148797.000000   \n",
              "unique                  NaN                             NaN   \n",
              "top                     NaN                             NaN   \n",
              "freq                    NaN                             NaN   \n",
              "mean               4.650836                       16.632036   \n",
              "std                0.436082                       55.061337   \n",
              "min                0.000000                        1.000000   \n",
              "25%                4.649015                        1.000000   \n",
              "50%                4.670000                        1.000000   \n",
              "75%                4.890000                        4.000000   \n",
              "max                5.000000                      453.000000   \n",
              "\n",
              "        calculated_host_listings_count_entire_homes  \\\n",
              "count                                 148797.000000   \n",
              "unique                                          NaN   \n",
              "top                                             NaN   \n",
              "freq                                            NaN   \n",
              "mean                                       9.231396   \n",
              "std                                       43.768297   \n",
              "min                                        0.000000   \n",
              "25%                                        0.000000   \n",
              "50%                                        1.000000   \n",
              "75%                                        1.000000   \n",
              "max                                      453.000000   \n",
              "\n",
              "        calculated_host_listings_count_private_rooms  \\\n",
              "count                                  148797.000000   \n",
              "unique                                           NaN   \n",
              "top                                              NaN   \n",
              "freq                                             NaN   \n",
              "mean                                        7.279206   \n",
              "std                                        32.660086   \n",
              "min                                         0.000000   \n",
              "25%                                         0.000000   \n",
              "50%                                         0.000000   \n",
              "75%                                         1.000000   \n",
              "max                                       359.000000   \n",
              "\n",
              "        calculated_host_listings_count_shared_rooms  reviews_per_month  \\\n",
              "count                                 148797.000000      148797.000000   \n",
              "unique                                          NaN                NaN   \n",
              "top                                             NaN                NaN   \n",
              "freq                                            NaN                NaN   \n",
              "mean                                       0.054329           1.011423   \n",
              "std                                        0.548103           2.474501   \n",
              "min                                        0.000000           0.000000   \n",
              "25%                                        0.000000           0.020000   \n",
              "50%                                        0.000000           0.240000   \n",
              "75%                                        0.000000           1.170000   \n",
              "max                                       19.000000         141.000000   \n",
              "\n",
              "                                                     name  \\\n",
              "count                                              148797   \n",
              "unique                                              53973   \n",
              "top     Cozy room@Queens! Same area W/Target,Costco, IKEA   \n",
              "freq                                                  116   \n",
              "mean                                                  NaN   \n",
              "std                                                   NaN   \n",
              "min                                                   NaN   \n",
              "25%                                                   NaN   \n",
              "50%                                                   NaN   \n",
              "75%                                                   NaN   \n",
              "max                                                   NaN   \n",
              "\n",
              "                                              description  \\\n",
              "count                                              148797   \n",
              "unique                                              54335   \n",
              "top     Welcome to UNTITLED (Adj.) at 3 Freeman Alley!...   \n",
              "freq                                                  250   \n",
              "mean                                                  NaN   \n",
              "std                                                   NaN   \n",
              "min                                                   NaN   \n",
              "25%                                                   NaN   \n",
              "50%                                                   NaN   \n",
              "75%                                                   NaN   \n",
              "max                                                   NaN   \n",
              "\n",
              "       neighborhood_overview   host_name  host_since  \\\n",
              "count                 148797      148797      148797   \n",
              "unique                 24755       11144        4635   \n",
              "top                  Unknown  Blueground  2016-12-16   \n",
              "freq                   58307        1484        1518   \n",
              "mean                     NaN         NaN         NaN   \n",
              "std                      NaN         NaN         NaN   \n",
              "min                      NaN         NaN         NaN   \n",
              "25%                      NaN         NaN         NaN   \n",
              "50%                      NaN         NaN         NaN   \n",
              "75%                      NaN         NaN         NaN   \n",
              "max                      NaN         NaN         NaN   \n",
              "\n",
              "                            host_location host_response_time  \\\n",
              "count                              148797             148797   \n",
              "unique                               3187                  4   \n",
              "top     New York, New York, United States     within an hour   \n",
              "freq                                58496             110442   \n",
              "mean                                  NaN                NaN   \n",
              "std                                   NaN                NaN   \n",
              "min                                   NaN                NaN   \n",
              "25%                                   NaN                NaN   \n",
              "50%                                   NaN                NaN   \n",
              "75%                                   NaN                NaN   \n",
              "max                                   NaN                NaN   \n",
              "\n",
              "        host_response_rate  host_acceptance_rate  host_is_superhost  \\\n",
              "count        148797.000000         148797.000000      148797.000000   \n",
              "unique                 NaN                   NaN                NaN   \n",
              "top                    NaN                   NaN                NaN   \n",
              "freq                   NaN                   NaN                NaN   \n",
              "mean           3815.999778             52.954051           0.200185   \n",
              "std            4798.311671             44.086222           0.400140   \n",
              "min               0.000000              0.000000           0.000000   \n",
              "25%             100.000000              0.000000           0.000000   \n",
              "50%             100.000000             70.000000           0.000000   \n",
              "75%            9999.000000             98.000000           0.000000   \n",
              "max            9999.000000            100.000000           1.000000   \n",
              "\n",
              "       host_neighbourhood  host_verifications  host_has_profile_pic  \\\n",
              "count              148797              148797         148797.000000   \n",
              "unique                671                 539                   NaN   \n",
              "top               Unknown  ['email', 'phone']                   NaN   \n",
              "freq                29079               67340                   NaN   \n",
              "mean                  NaN                 NaN              0.990699   \n",
              "std                   NaN                 NaN              0.095994   \n",
              "min                   NaN                 NaN              0.000000   \n",
              "25%                   NaN                 NaN              1.000000   \n",
              "50%                   NaN                 NaN              1.000000   \n",
              "75%                   NaN                 NaN              1.000000   \n",
              "max                   NaN                 NaN              1.000000   \n",
              "\n",
              "        host_identity_verified neighbourhood neighbourhood_cleansed  \\\n",
              "count            148797.000000        148797                 148797   \n",
              "unique                     NaN           250                    245   \n",
              "top                        NaN       Unknown     Bedford-Stuyvesant   \n",
              "freq                       NaN         58307                  10770   \n",
              "mean                  0.840118           NaN                    NaN   \n",
              "std                   0.366498           NaN                    NaN   \n",
              "min                   0.000000           NaN                    NaN   \n",
              "25%                   1.000000           NaN                    NaN   \n",
              "50%                   1.000000           NaN                    NaN   \n",
              "75%                   1.000000           NaN                    NaN   \n",
              "max                   1.000000           NaN                    NaN   \n",
              "\n",
              "       neighbourhood_group_cleansed       property_type        room_type  \\\n",
              "count                        148797              148797           148797   \n",
              "unique                            5                  90                4   \n",
              "top                       Manhattan  Entire rental unit  Entire home/apt   \n",
              "freq                          63954               63350            82929   \n",
              "mean                            NaN                 NaN              NaN   \n",
              "std                             NaN                 NaN              NaN   \n",
              "min                             NaN                 NaN              NaN   \n",
              "25%                             NaN                 NaN              NaN   \n",
              "50%                             NaN                 NaN              NaN   \n",
              "75%                             NaN                 NaN              NaN   \n",
              "max                             NaN                 NaN              NaN   \n",
              "\n",
              "       bathrooms_text                    amenities          price  \\\n",
              "count          148797                       148797  148797.000000   \n",
              "unique             33                       124416            NaN   \n",
              "top            1 bath  [\"Long term stays allowed\"]            NaN   \n",
              "freq            78422                          492            NaN   \n",
              "mean              NaN                          NaN     182.116147   \n",
              "std               NaN                          NaN     330.614968   \n",
              "min               NaN                          NaN      10.000000   \n",
              "25%               NaN                          NaN      75.000000   \n",
              "50%               NaN                          NaN     120.000000   \n",
              "75%               NaN                          NaN     200.000000   \n",
              "max               NaN                          NaN   16500.000000   \n",
              "\n",
              "        has_availability  instant_bookable  host_response_time_within a day  \\\n",
              "count      148797.000000     148797.000000                    148797.000000   \n",
              "unique               NaN               NaN                              NaN   \n",
              "top                  NaN               NaN                              NaN   \n",
              "freq                 NaN               NaN                              NaN   \n",
              "mean            0.862000          0.265792                         0.084881   \n",
              "std             0.344901          0.441755                         0.278705   \n",
              "min             0.000000          0.000000                         0.000000   \n",
              "25%             1.000000          0.000000                         0.000000   \n",
              "50%             1.000000          0.000000                         0.000000   \n",
              "75%             1.000000          1.000000                         0.000000   \n",
              "max             1.000000          1.000000                         1.000000   \n",
              "\n",
              "        host_response_time_within a few hours  \\\n",
              "count                           148797.000000   \n",
              "unique                                    NaN   \n",
              "top                                       NaN   \n",
              "freq                                      NaN   \n",
              "mean                                 0.146011   \n",
              "std                                  0.353118   \n",
              "min                                  0.000000   \n",
              "25%                                  0.000000   \n",
              "50%                                  0.000000   \n",
              "75%                                  0.000000   \n",
              "max                                  1.000000   \n",
              "\n",
              "        host_response_time_within an hour  \n",
              "count                       148797.000000  \n",
              "unique                                NaN  \n",
              "top                                   NaN  \n",
              "freq                                  NaN  \n",
              "mean                             0.742233  \n",
              "std                              0.437407  \n",
              "min                              0.000000  \n",
              "25%                              0.000000  \n",
              "50%                              1.000000  \n",
              "75%                              1.000000  \n",
              "max                              1.000000  "
            ],
            "text/html": [
              "\n",
              "  <div id=\"df-458303e4-6edb-46e8-9cf0-a0ceb4854a5a\">\n",
              "    <div class=\"colab-df-container\">\n",
              "      <div>\n",
              "<style scoped>\n",
              "    .dataframe tbody tr th:only-of-type {\n",
              "        vertical-align: middle;\n",
              "    }\n",
              "\n",
              "    .dataframe tbody tr th {\n",
              "        vertical-align: top;\n",
              "    }\n",
              "\n",
              "    .dataframe thead th {\n",
              "        text-align: right;\n",
              "    }\n",
              "</style>\n",
              "<table border=\"1\" class=\"dataframe\">\n",
              "  <thead>\n",
              "    <tr style=\"text-align: right;\">\n",
              "      <th></th>\n",
              "      <th>id</th>\n",
              "      <th>host_id</th>\n",
              "      <th>host_listings_count</th>\n",
              "      <th>host_total_listings_count</th>\n",
              "      <th>accommodates</th>\n",
              "      <th>bedrooms</th>\n",
              "      <th>beds</th>\n",
              "      <th>minimum_nights</th>\n",
              "      <th>maximum_nights</th>\n",
              "      <th>minimum_minimum_nights</th>\n",
              "      <th>number_of_reviews</th>\n",
              "      <th>number_of_reviews_ltm</th>\n",
              "      <th>number_of_reviews_l30d</th>\n",
              "      <th>review_scores_rating</th>\n",
              "      <th>review_scores_accuracy</th>\n",
              "      <th>review_scores_cleanliness</th>\n",
              "      <th>review_scores_checkin</th>\n",
              "      <th>review_scores_communication</th>\n",
              "      <th>review_scores_location</th>\n",
              "      <th>review_scores_value</th>\n",
              "      <th>calculated_host_listings_count</th>\n",
              "      <th>calculated_host_listings_count_entire_homes</th>\n",
              "      <th>calculated_host_listings_count_private_rooms</th>\n",
              "      <th>calculated_host_listings_count_shared_rooms</th>\n",
              "      <th>reviews_per_month</th>\n",
              "      <th>name</th>\n",
              "      <th>description</th>\n",
              "      <th>neighborhood_overview</th>\n",
              "      <th>host_name</th>\n",
              "      <th>host_since</th>\n",
              "      <th>host_location</th>\n",
              "      <th>host_response_time</th>\n",
              "      <th>host_response_rate</th>\n",
              "      <th>host_acceptance_rate</th>\n",
              "      <th>host_is_superhost</th>\n",
              "      <th>host_neighbourhood</th>\n",
              "      <th>host_verifications</th>\n",
              "      <th>host_has_profile_pic</th>\n",
              "      <th>host_identity_verified</th>\n",
              "      <th>neighbourhood</th>\n",
              "      <th>neighbourhood_cleansed</th>\n",
              "      <th>neighbourhood_group_cleansed</th>\n",
              "      <th>property_type</th>\n",
              "      <th>room_type</th>\n",
              "      <th>bathrooms_text</th>\n",
              "      <th>amenities</th>\n",
              "      <th>price</th>\n",
              "      <th>has_availability</th>\n",
              "      <th>instant_bookable</th>\n",
              "      <th>host_response_time_within a day</th>\n",
              "      <th>host_response_time_within a few hours</th>\n",
              "      <th>host_response_time_within an hour</th>\n",
              "    </tr>\n",
              "  </thead>\n",
              "  <tbody>\n",
              "    <tr>\n",
              "      <th>count</th>\n",
              "      <td>1.487970e+05</td>\n",
              "      <td>1.487970e+05</td>\n",
              "      <td>148797.000000</td>\n",
              "      <td>148797.000000</td>\n",
              "      <td>148797.000000</td>\n",
              "      <td>148797.000000</td>\n",
              "      <td>148797.000000</td>\n",
              "      <td>148797.000000</td>\n",
              "      <td>1.487970e+05</td>\n",
              "      <td>148797.000000</td>\n",
              "      <td>148797.000000</td>\n",
              "      <td>148797.000000</td>\n",
              "      <td>148797.000000</td>\n",
              "      <td>148797.000000</td>\n",
              "      <td>148797.000000</td>\n",
              "      <td>148797.000000</td>\n",
              "      <td>148797.000000</td>\n",
              "      <td>148797.000000</td>\n",
              "      <td>148797.000000</td>\n",
              "      <td>148797.000000</td>\n",
              "      <td>148797.000000</td>\n",
              "      <td>148797.000000</td>\n",
              "      <td>148797.000000</td>\n",
              "      <td>148797.000000</td>\n",
              "      <td>148797.000000</td>\n",
              "      <td>148797</td>\n",
              "      <td>148797</td>\n",
              "      <td>148797</td>\n",
              "      <td>148797</td>\n",
              "      <td>148797</td>\n",
              "      <td>148797</td>\n",
              "      <td>148797</td>\n",
              "      <td>148797.000000</td>\n",
              "      <td>148797.000000</td>\n",
              "      <td>148797.000000</td>\n",
              "      <td>148797</td>\n",
              "      <td>148797</td>\n",
              "      <td>148797.000000</td>\n",
              "      <td>148797.000000</td>\n",
              "      <td>148797</td>\n",
              "      <td>148797</td>\n",
              "      <td>148797</td>\n",
              "      <td>148797</td>\n",
              "      <td>148797</td>\n",
              "      <td>148797</td>\n",
              "      <td>148797</td>\n",
              "      <td>148797.000000</td>\n",
              "      <td>148797.000000</td>\n",
              "      <td>148797.000000</td>\n",
              "      <td>148797.000000</td>\n",
              "      <td>148797.000000</td>\n",
              "      <td>148797.000000</td>\n",
              "    </tr>\n",
              "    <tr>\n",
              "      <th>unique</th>\n",
              "      <td>NaN</td>\n",
              "      <td>NaN</td>\n",
              "      <td>NaN</td>\n",
              "      <td>NaN</td>\n",
              "      <td>NaN</td>\n",
              "      <td>NaN</td>\n",
              "      <td>NaN</td>\n",
              "      <td>NaN</td>\n",
              "      <td>NaN</td>\n",
              "      <td>NaN</td>\n",
              "      <td>NaN</td>\n",
              "      <td>NaN</td>\n",
              "      <td>NaN</td>\n",
              "      <td>NaN</td>\n",
              "      <td>NaN</td>\n",
              "      <td>NaN</td>\n",
              "      <td>NaN</td>\n",
              "      <td>NaN</td>\n",
              "      <td>NaN</td>\n",
              "      <td>NaN</td>\n",
              "      <td>NaN</td>\n",
              "      <td>NaN</td>\n",
              "      <td>NaN</td>\n",
              "      <td>NaN</td>\n",
              "      <td>NaN</td>\n",
              "      <td>53973</td>\n",
              "      <td>54335</td>\n",
              "      <td>24755</td>\n",
              "      <td>11144</td>\n",
              "      <td>4635</td>\n",
              "      <td>3187</td>\n",
              "      <td>4</td>\n",
              "      <td>NaN</td>\n",
              "      <td>NaN</td>\n",
              "      <td>NaN</td>\n",
              "      <td>671</td>\n",
              "      <td>539</td>\n",
              "      <td>NaN</td>\n",
              "      <td>NaN</td>\n",
              "      <td>250</td>\n",
              "      <td>245</td>\n",
              "      <td>5</td>\n",
              "      <td>90</td>\n",
              "      <td>4</td>\n",
              "      <td>33</td>\n",
              "      <td>124416</td>\n",
              "      <td>NaN</td>\n",
              "      <td>NaN</td>\n",
              "      <td>NaN</td>\n",
              "      <td>NaN</td>\n",
              "      <td>NaN</td>\n",
              "      <td>NaN</td>\n",
              "    </tr>\n",
              "    <tr>\n",
              "      <th>top</th>\n",
              "      <td>NaN</td>\n",
              "      <td>NaN</td>\n",
              "      <td>NaN</td>\n",
              "      <td>NaN</td>\n",
              "      <td>NaN</td>\n",
              "      <td>NaN</td>\n",
              "      <td>NaN</td>\n",
              "      <td>NaN</td>\n",
              "      <td>NaN</td>\n",
              "      <td>NaN</td>\n",
              "      <td>NaN</td>\n",
              "      <td>NaN</td>\n",
              "      <td>NaN</td>\n",
              "      <td>NaN</td>\n",
              "      <td>NaN</td>\n",
              "      <td>NaN</td>\n",
              "      <td>NaN</td>\n",
              "      <td>NaN</td>\n",
              "      <td>NaN</td>\n",
              "      <td>NaN</td>\n",
              "      <td>NaN</td>\n",
              "      <td>NaN</td>\n",
              "      <td>NaN</td>\n",
              "      <td>NaN</td>\n",
              "      <td>NaN</td>\n",
              "      <td>Cozy room@Queens! Same area W/Target,Costco, IKEA</td>\n",
              "      <td>Welcome to UNTITLED (Adj.) at 3 Freeman Alley!...</td>\n",
              "      <td>Unknown</td>\n",
              "      <td>Blueground</td>\n",
              "      <td>2016-12-16</td>\n",
              "      <td>New York, New York, United States</td>\n",
              "      <td>within an hour</td>\n",
              "      <td>NaN</td>\n",
              "      <td>NaN</td>\n",
              "      <td>NaN</td>\n",
              "      <td>Unknown</td>\n",
              "      <td>['email', 'phone']</td>\n",
              "      <td>NaN</td>\n",
              "      <td>NaN</td>\n",
              "      <td>Unknown</td>\n",
              "      <td>Bedford-Stuyvesant</td>\n",
              "      <td>Manhattan</td>\n",
              "      <td>Entire rental unit</td>\n",
              "      <td>Entire home/apt</td>\n",
              "      <td>1 bath</td>\n",
              "      <td>[\"Long term stays allowed\"]</td>\n",
              "      <td>NaN</td>\n",
              "      <td>NaN</td>\n",
              "      <td>NaN</td>\n",
              "      <td>NaN</td>\n",
              "      <td>NaN</td>\n",
              "      <td>NaN</td>\n",
              "    </tr>\n",
              "    <tr>\n",
              "      <th>freq</th>\n",
              "      <td>NaN</td>\n",
              "      <td>NaN</td>\n",
              "      <td>NaN</td>\n",
              "      <td>NaN</td>\n",
              "      <td>NaN</td>\n",
              "      <td>NaN</td>\n",
              "      <td>NaN</td>\n",
              "      <td>NaN</td>\n",
              "      <td>NaN</td>\n",
              "      <td>NaN</td>\n",
              "      <td>NaN</td>\n",
              "      <td>NaN</td>\n",
              "      <td>NaN</td>\n",
              "      <td>NaN</td>\n",
              "      <td>NaN</td>\n",
              "      <td>NaN</td>\n",
              "      <td>NaN</td>\n",
              "      <td>NaN</td>\n",
              "      <td>NaN</td>\n",
              "      <td>NaN</td>\n",
              "      <td>NaN</td>\n",
              "      <td>NaN</td>\n",
              "      <td>NaN</td>\n",
              "      <td>NaN</td>\n",
              "      <td>NaN</td>\n",
              "      <td>116</td>\n",
              "      <td>250</td>\n",
              "      <td>58307</td>\n",
              "      <td>1484</td>\n",
              "      <td>1518</td>\n",
              "      <td>58496</td>\n",
              "      <td>110442</td>\n",
              "      <td>NaN</td>\n",
              "      <td>NaN</td>\n",
              "      <td>NaN</td>\n",
              "      <td>29079</td>\n",
              "      <td>67340</td>\n",
              "      <td>NaN</td>\n",
              "      <td>NaN</td>\n",
              "      <td>58307</td>\n",
              "      <td>10770</td>\n",
              "      <td>63954</td>\n",
              "      <td>63350</td>\n",
              "      <td>82929</td>\n",
              "      <td>78422</td>\n",
              "      <td>492</td>\n",
              "      <td>NaN</td>\n",
              "      <td>NaN</td>\n",
              "      <td>NaN</td>\n",
              "      <td>NaN</td>\n",
              "      <td>NaN</td>\n",
              "      <td>NaN</td>\n",
              "    </tr>\n",
              "    <tr>\n",
              "      <th>mean</th>\n",
              "      <td>5.144066e+16</td>\n",
              "      <td>1.217684e+08</td>\n",
              "      <td>61.024120</td>\n",
              "      <td>67.148363</td>\n",
              "      <td>2.882672</td>\n",
              "      <td>1.312150</td>\n",
              "      <td>1.602479</td>\n",
              "      <td>20.181146</td>\n",
              "      <td>5.942576e+04</td>\n",
              "      <td>20.691916</td>\n",
              "      <td>25.771017</td>\n",
              "      <td>6.607620</td>\n",
              "      <td>0.620792</td>\n",
              "      <td>4.613051</td>\n",
              "      <td>4.749506</td>\n",
              "      <td>4.625227</td>\n",
              "      <td>4.816334</td>\n",
              "      <td>4.810132</td>\n",
              "      <td>4.747921</td>\n",
              "      <td>4.650836</td>\n",
              "      <td>16.632036</td>\n",
              "      <td>9.231396</td>\n",
              "      <td>7.279206</td>\n",
              "      <td>0.054329</td>\n",
              "      <td>1.011423</td>\n",
              "      <td>NaN</td>\n",
              "      <td>NaN</td>\n",
              "      <td>NaN</td>\n",
              "      <td>NaN</td>\n",
              "      <td>NaN</td>\n",
              "      <td>NaN</td>\n",
              "      <td>NaN</td>\n",
              "      <td>3815.999778</td>\n",
              "      <td>52.954051</td>\n",
              "      <td>0.200185</td>\n",
              "      <td>NaN</td>\n",
              "      <td>NaN</td>\n",
              "      <td>0.990699</td>\n",
              "      <td>0.840118</td>\n",
              "      <td>NaN</td>\n",
              "      <td>NaN</td>\n",
              "      <td>NaN</td>\n",
              "      <td>NaN</td>\n",
              "      <td>NaN</td>\n",
              "      <td>NaN</td>\n",
              "      <td>NaN</td>\n",
              "      <td>182.116147</td>\n",
              "      <td>0.862000</td>\n",
              "      <td>0.265792</td>\n",
              "      <td>0.084881</td>\n",
              "      <td>0.146011</td>\n",
              "      <td>0.742233</td>\n",
              "    </tr>\n",
              "    <tr>\n",
              "      <th>std</th>\n",
              "      <td>1.706782e+17</td>\n",
              "      <td>1.378374e+08</td>\n",
              "      <td>385.184756</td>\n",
              "      <td>427.939239</td>\n",
              "      <td>1.944009</td>\n",
              "      <td>0.696702</td>\n",
              "      <td>1.106255</td>\n",
              "      <td>30.653709</td>\n",
              "      <td>1.113514e+07</td>\n",
              "      <td>38.275938</td>\n",
              "      <td>54.270842</td>\n",
              "      <td>17.399304</td>\n",
              "      <td>1.749709</td>\n",
              "      <td>0.677695</td>\n",
              "      <td>0.414122</td>\n",
              "      <td>0.484007</td>\n",
              "      <td>0.367110</td>\n",
              "      <td>0.388418</td>\n",
              "      <td>0.356208</td>\n",
              "      <td>0.436082</td>\n",
              "      <td>55.061337</td>\n",
              "      <td>43.768297</td>\n",
              "      <td>32.660086</td>\n",
              "      <td>0.548103</td>\n",
              "      <td>2.474501</td>\n",
              "      <td>NaN</td>\n",
              "      <td>NaN</td>\n",
              "      <td>NaN</td>\n",
              "      <td>NaN</td>\n",
              "      <td>NaN</td>\n",
              "      <td>NaN</td>\n",
              "      <td>NaN</td>\n",
              "      <td>4798.311671</td>\n",
              "      <td>44.086222</td>\n",
              "      <td>0.400140</td>\n",
              "      <td>NaN</td>\n",
              "      <td>NaN</td>\n",
              "      <td>0.095994</td>\n",
              "      <td>0.366498</td>\n",
              "      <td>NaN</td>\n",
              "      <td>NaN</td>\n",
              "      <td>NaN</td>\n",
              "      <td>NaN</td>\n",
              "      <td>NaN</td>\n",
              "      <td>NaN</td>\n",
              "      <td>NaN</td>\n",
              "      <td>330.614968</td>\n",
              "      <td>0.344901</td>\n",
              "      <td>0.441755</td>\n",
              "      <td>0.278705</td>\n",
              "      <td>0.353118</td>\n",
              "      <td>0.437407</td>\n",
              "    </tr>\n",
              "    <tr>\n",
              "      <th>min</th>\n",
              "      <td>2.539000e+03</td>\n",
              "      <td>2.438000e+03</td>\n",
              "      <td>0.000000</td>\n",
              "      <td>0.000000</td>\n",
              "      <td>1.000000</td>\n",
              "      <td>1.000000</td>\n",
              "      <td>1.000000</td>\n",
              "      <td>1.000000</td>\n",
              "      <td>1.000000e+00</td>\n",
              "      <td>1.000000</td>\n",
              "      <td>0.000000</td>\n",
              "      <td>0.000000</td>\n",
              "      <td>0.000000</td>\n",
              "      <td>0.000000</td>\n",
              "      <td>0.000000</td>\n",
              "      <td>0.000000</td>\n",
              "      <td>0.000000</td>\n",
              "      <td>0.000000</td>\n",
              "      <td>0.000000</td>\n",
              "      <td>0.000000</td>\n",
              "      <td>1.000000</td>\n",
              "      <td>0.000000</td>\n",
              "      <td>0.000000</td>\n",
              "      <td>0.000000</td>\n",
              "      <td>0.000000</td>\n",
              "      <td>NaN</td>\n",
              "      <td>NaN</td>\n",
              "      <td>NaN</td>\n",
              "      <td>NaN</td>\n",
              "      <td>NaN</td>\n",
              "      <td>NaN</td>\n",
              "      <td>NaN</td>\n",
              "      <td>0.000000</td>\n",
              "      <td>0.000000</td>\n",
              "      <td>0.000000</td>\n",
              "      <td>NaN</td>\n",
              "      <td>NaN</td>\n",
              "      <td>0.000000</td>\n",
              "      <td>0.000000</td>\n",
              "      <td>NaN</td>\n",
              "      <td>NaN</td>\n",
              "      <td>NaN</td>\n",
              "      <td>NaN</td>\n",
              "      <td>NaN</td>\n",
              "      <td>NaN</td>\n",
              "      <td>NaN</td>\n",
              "      <td>10.000000</td>\n",
              "      <td>0.000000</td>\n",
              "      <td>0.000000</td>\n",
              "      <td>0.000000</td>\n",
              "      <td>0.000000</td>\n",
              "      <td>0.000000</td>\n",
              "    </tr>\n",
              "    <tr>\n",
              "      <th>25%</th>\n",
              "      <td>1.402802e+07</td>\n",
              "      <td>1.206176e+07</td>\n",
              "      <td>1.000000</td>\n",
              "      <td>1.000000</td>\n",
              "      <td>2.000000</td>\n",
              "      <td>1.000000</td>\n",
              "      <td>1.000000</td>\n",
              "      <td>2.000000</td>\n",
              "      <td>6.000000e+01</td>\n",
              "      <td>2.000000</td>\n",
              "      <td>1.000000</td>\n",
              "      <td>0.000000</td>\n",
              "      <td>0.000000</td>\n",
              "      <td>4.608960</td>\n",
              "      <td>4.747570</td>\n",
              "      <td>4.623031</td>\n",
              "      <td>4.814975</td>\n",
              "      <td>4.808163</td>\n",
              "      <td>4.740000</td>\n",
              "      <td>4.649015</td>\n",
              "      <td>1.000000</td>\n",
              "      <td>0.000000</td>\n",
              "      <td>0.000000</td>\n",
              "      <td>0.000000</td>\n",
              "      <td>0.020000</td>\n",
              "      <td>NaN</td>\n",
              "      <td>NaN</td>\n",
              "      <td>NaN</td>\n",
              "      <td>NaN</td>\n",
              "      <td>NaN</td>\n",
              "      <td>NaN</td>\n",
              "      <td>NaN</td>\n",
              "      <td>100.000000</td>\n",
              "      <td>0.000000</td>\n",
              "      <td>0.000000</td>\n",
              "      <td>NaN</td>\n",
              "      <td>NaN</td>\n",
              "      <td>1.000000</td>\n",
              "      <td>1.000000</td>\n",
              "      <td>NaN</td>\n",
              "      <td>NaN</td>\n",
              "      <td>NaN</td>\n",
              "      <td>NaN</td>\n",
              "      <td>NaN</td>\n",
              "      <td>NaN</td>\n",
              "      <td>NaN</td>\n",
              "      <td>75.000000</td>\n",
              "      <td>1.000000</td>\n",
              "      <td>0.000000</td>\n",
              "      <td>0.000000</td>\n",
              "      <td>0.000000</td>\n",
              "      <td>0.000000</td>\n",
              "    </tr>\n",
              "    <tr>\n",
              "      <th>50%</th>\n",
              "      <td>3.368462e+07</td>\n",
              "      <td>5.150184e+07</td>\n",
              "      <td>1.000000</td>\n",
              "      <td>1.000000</td>\n",
              "      <td>2.000000</td>\n",
              "      <td>1.000000</td>\n",
              "      <td>1.000000</td>\n",
              "      <td>30.000000</td>\n",
              "      <td>3.650000e+02</td>\n",
              "      <td>30.000000</td>\n",
              "      <td>5.000000</td>\n",
              "      <td>0.000000</td>\n",
              "      <td>0.000000</td>\n",
              "      <td>4.710000</td>\n",
              "      <td>4.800000</td>\n",
              "      <td>4.660000</td>\n",
              "      <td>4.880000</td>\n",
              "      <td>4.890000</td>\n",
              "      <td>4.750000</td>\n",
              "      <td>4.670000</td>\n",
              "      <td>1.000000</td>\n",
              "      <td>1.000000</td>\n",
              "      <td>0.000000</td>\n",
              "      <td>0.000000</td>\n",
              "      <td>0.240000</td>\n",
              "      <td>NaN</td>\n",
              "      <td>NaN</td>\n",
              "      <td>NaN</td>\n",
              "      <td>NaN</td>\n",
              "      <td>NaN</td>\n",
              "      <td>NaN</td>\n",
              "      <td>NaN</td>\n",
              "      <td>100.000000</td>\n",
              "      <td>70.000000</td>\n",
              "      <td>0.000000</td>\n",
              "      <td>NaN</td>\n",
              "      <td>NaN</td>\n",
              "      <td>1.000000</td>\n",
              "      <td>1.000000</td>\n",
              "      <td>NaN</td>\n",
              "      <td>NaN</td>\n",
              "      <td>NaN</td>\n",
              "      <td>NaN</td>\n",
              "      <td>NaN</td>\n",
              "      <td>NaN</td>\n",
              "      <td>NaN</td>\n",
              "      <td>120.000000</td>\n",
              "      <td>1.000000</td>\n",
              "      <td>0.000000</td>\n",
              "      <td>0.000000</td>\n",
              "      <td>0.000000</td>\n",
              "      <td>1.000000</td>\n",
              "    </tr>\n",
              "    <tr>\n",
              "      <th>75%</th>\n",
              "      <td>4.962995e+07</td>\n",
              "      <td>2.047046e+08</td>\n",
              "      <td>4.000000</td>\n",
              "      <td>4.000000</td>\n",
              "      <td>4.000000</td>\n",
              "      <td>1.000000</td>\n",
              "      <td>2.000000</td>\n",
              "      <td>30.000000</td>\n",
              "      <td>1.125000e+03</td>\n",
              "      <td>30.000000</td>\n",
              "      <td>24.000000</td>\n",
              "      <td>5.000000</td>\n",
              "      <td>0.000000</td>\n",
              "      <td>4.950000</td>\n",
              "      <td>5.000000</td>\n",
              "      <td>4.940000</td>\n",
              "      <td>5.000000</td>\n",
              "      <td>5.000000</td>\n",
              "      <td>5.000000</td>\n",
              "      <td>4.890000</td>\n",
              "      <td>4.000000</td>\n",
              "      <td>1.000000</td>\n",
              "      <td>1.000000</td>\n",
              "      <td>0.000000</td>\n",
              "      <td>1.170000</td>\n",
              "      <td>NaN</td>\n",
              "      <td>NaN</td>\n",
              "      <td>NaN</td>\n",
              "      <td>NaN</td>\n",
              "      <td>NaN</td>\n",
              "      <td>NaN</td>\n",
              "      <td>NaN</td>\n",
              "      <td>9999.000000</td>\n",
              "      <td>98.000000</td>\n",
              "      <td>0.000000</td>\n",
              "      <td>NaN</td>\n",
              "      <td>NaN</td>\n",
              "      <td>1.000000</td>\n",
              "      <td>1.000000</td>\n",
              "      <td>NaN</td>\n",
              "      <td>NaN</td>\n",
              "      <td>NaN</td>\n",
              "      <td>NaN</td>\n",
              "      <td>NaN</td>\n",
              "      <td>NaN</td>\n",
              "      <td>NaN</td>\n",
              "      <td>200.000000</td>\n",
              "      <td>1.000000</td>\n",
              "      <td>1.000000</td>\n",
              "      <td>0.000000</td>\n",
              "      <td>0.000000</td>\n",
              "      <td>1.000000</td>\n",
              "    </tr>\n",
              "    <tr>\n",
              "      <th>max</th>\n",
              "      <td>7.098549e+17</td>\n",
              "      <td>4.782606e+08</td>\n",
              "      <td>4022.000000</td>\n",
              "      <td>6958.000000</td>\n",
              "      <td>16.000000</td>\n",
              "      <td>16.000000</td>\n",
              "      <td>42.000000</td>\n",
              "      <td>1250.000000</td>\n",
              "      <td>2.147484e+09</td>\n",
              "      <td>1250.000000</td>\n",
              "      <td>1480.000000</td>\n",
              "      <td>1010.000000</td>\n",
              "      <td>160.000000</td>\n",
              "      <td>5.000000</td>\n",
              "      <td>5.000000</td>\n",
              "      <td>5.000000</td>\n",
              "      <td>5.000000</td>\n",
              "      <td>5.000000</td>\n",
              "      <td>5.000000</td>\n",
              "      <td>5.000000</td>\n",
              "      <td>453.000000</td>\n",
              "      <td>453.000000</td>\n",
              "      <td>359.000000</td>\n",
              "      <td>19.000000</td>\n",
              "      <td>141.000000</td>\n",
              "      <td>NaN</td>\n",
              "      <td>NaN</td>\n",
              "      <td>NaN</td>\n",
              "      <td>NaN</td>\n",
              "      <td>NaN</td>\n",
              "      <td>NaN</td>\n",
              "      <td>NaN</td>\n",
              "      <td>9999.000000</td>\n",
              "      <td>100.000000</td>\n",
              "      <td>1.000000</td>\n",
              "      <td>NaN</td>\n",
              "      <td>NaN</td>\n",
              "      <td>1.000000</td>\n",
              "      <td>1.000000</td>\n",
              "      <td>NaN</td>\n",
              "      <td>NaN</td>\n",
              "      <td>NaN</td>\n",
              "      <td>NaN</td>\n",
              "      <td>NaN</td>\n",
              "      <td>NaN</td>\n",
              "      <td>NaN</td>\n",
              "      <td>16500.000000</td>\n",
              "      <td>1.000000</td>\n",
              "      <td>1.000000</td>\n",
              "      <td>1.000000</td>\n",
              "      <td>1.000000</td>\n",
              "      <td>1.000000</td>\n",
              "    </tr>\n",
              "  </tbody>\n",
              "</table>\n",
              "</div>\n",
              "      <button class=\"colab-df-convert\" onclick=\"convertToInteractive('df-458303e4-6edb-46e8-9cf0-a0ceb4854a5a')\"\n",
              "              title=\"Convert this dataframe to an interactive table.\"\n",
              "              style=\"display:none;\">\n",
              "        \n",
              "  <svg xmlns=\"http://www.w3.org/2000/svg\" height=\"24px\"viewBox=\"0 0 24 24\"\n",
              "       width=\"24px\">\n",
              "    <path d=\"M0 0h24v24H0V0z\" fill=\"none\"/>\n",
              "    <path d=\"M18.56 5.44l.94 2.06.94-2.06 2.06-.94-2.06-.94-.94-2.06-.94 2.06-2.06.94zm-11 1L8.5 8.5l.94-2.06 2.06-.94-2.06-.94L8.5 2.5l-.94 2.06-2.06.94zm10 10l.94 2.06.94-2.06 2.06-.94-2.06-.94-.94-2.06-.94 2.06-2.06.94z\"/><path d=\"M17.41 7.96l-1.37-1.37c-.4-.4-.92-.59-1.43-.59-.52 0-1.04.2-1.43.59L10.3 9.45l-7.72 7.72c-.78.78-.78 2.05 0 2.83L4 21.41c.39.39.9.59 1.41.59.51 0 1.02-.2 1.41-.59l7.78-7.78 2.81-2.81c.8-.78.8-2.07 0-2.86zM5.41 20L4 18.59l7.72-7.72 1.47 1.35L5.41 20z\"/>\n",
              "  </svg>\n",
              "      </button>\n",
              "      \n",
              "  <style>\n",
              "    .colab-df-container {\n",
              "      display:flex;\n",
              "      flex-wrap:wrap;\n",
              "      gap: 12px;\n",
              "    }\n",
              "\n",
              "    .colab-df-convert {\n",
              "      background-color: #E8F0FE;\n",
              "      border: none;\n",
              "      border-radius: 50%;\n",
              "      cursor: pointer;\n",
              "      display: none;\n",
              "      fill: #1967D2;\n",
              "      height: 32px;\n",
              "      padding: 0 0 0 0;\n",
              "      width: 32px;\n",
              "    }\n",
              "\n",
              "    .colab-df-convert:hover {\n",
              "      background-color: #E2EBFA;\n",
              "      box-shadow: 0px 1px 2px rgba(60, 64, 67, 0.3), 0px 1px 3px 1px rgba(60, 64, 67, 0.15);\n",
              "      fill: #174EA6;\n",
              "    }\n",
              "\n",
              "    [theme=dark] .colab-df-convert {\n",
              "      background-color: #3B4455;\n",
              "      fill: #D2E3FC;\n",
              "    }\n",
              "\n",
              "    [theme=dark] .colab-df-convert:hover {\n",
              "      background-color: #434B5C;\n",
              "      box-shadow: 0px 1px 3px 1px rgba(0, 0, 0, 0.15);\n",
              "      filter: drop-shadow(0px 1px 2px rgba(0, 0, 0, 0.3));\n",
              "      fill: #FFFFFF;\n",
              "    }\n",
              "  </style>\n",
              "\n",
              "      <script>\n",
              "        const buttonEl =\n",
              "          document.querySelector('#df-458303e4-6edb-46e8-9cf0-a0ceb4854a5a button.colab-df-convert');\n",
              "        buttonEl.style.display =\n",
              "          google.colab.kernel.accessAllowed ? 'block' : 'none';\n",
              "\n",
              "        async function convertToInteractive(key) {\n",
              "          const element = document.querySelector('#df-458303e4-6edb-46e8-9cf0-a0ceb4854a5a');\n",
              "          const dataTable =\n",
              "            await google.colab.kernel.invokeFunction('convertToInteractive',\n",
              "                                                     [key], {});\n",
              "          if (!dataTable) return;\n",
              "\n",
              "          const docLinkHtml = 'Like what you see? Visit the ' +\n",
              "            '<a target=\"_blank\" href=https://colab.research.google.com/notebooks/data_table.ipynb>data table notebook</a>'\n",
              "            + ' to learn more about interactive tables.';\n",
              "          element.innerHTML = '';\n",
              "          dataTable['output_type'] = 'display_data';\n",
              "          await google.colab.output.renderOutput(dataTable, element);\n",
              "          const docLink = document.createElement('div');\n",
              "          docLink.innerHTML = docLinkHtml;\n",
              "          element.appendChild(docLink);\n",
              "        }\n",
              "      </script>\n",
              "    </div>\n",
              "  </div>\n",
              "  "
            ]
          },
          "metadata": {},
          "execution_count": 45
        }
      ]
    },
    {
      "cell_type": "code",
      "source": [
        "fdf2=fdf2.drop(['host_response_time'], axis=1)"
      ],
      "metadata": {
        "id": "8TVpRd_cZ5kr"
      },
      "id": "8TVpRd_cZ5kr",
      "execution_count": null,
      "outputs": []
    },
    {
      "cell_type": "code",
      "source": [
        "fdf2.amenities.head()"
      ],
      "metadata": {
        "colab": {
          "base_uri": "https://localhost:8080/"
        },
        "id": "wItTPdZzUNmh",
        "outputId": "ee231c53-69f2-4403-9963-d23c6da661df"
      },
      "id": "wItTPdZzUNmh",
      "execution_count": null,
      "outputs": [
        {
          "output_type": "execute_result",
          "data": {
            "text/plain": [
              "0    [\"First aid kit\", \"Microwave\", \"Stove\", \"Coffe...\n",
              "1    [\"Stove\", \"Coffee maker\", \"Long term stays all...\n",
              "2    [\"Hair dryer\", \"Essentials\", \"Carbon monoxide ...\n",
              "3    [\"Hair dryer\", \"Cable TV\", \"Refrigerator\", \"BB...\n",
              "4    [\"First aid kit\", \"Essentials\", \"Breakfast\", \"...\n",
              "Name: amenities, dtype: object"
            ]
          },
          "metadata": {},
          "execution_count": 47
        }
      ]
    },
    {
      "cell_type": "code",
      "source": [
        "len(fdf2.amenities)"
      ],
      "metadata": {
        "colab": {
          "base_uri": "https://localhost:8080/"
        },
        "id": "ff0Whz4XxCV4",
        "outputId": "f87c660a-ec7d-44aa-bf2a-aa26de667e7b"
      },
      "id": "ff0Whz4XxCV4",
      "execution_count": null,
      "outputs": [
        {
          "output_type": "execute_result",
          "data": {
            "text/plain": [
              "148797"
            ]
          },
          "metadata": {},
          "execution_count": 84
        }
      ]
    },
    {
      "cell_type": "code",
      "source": [
        "fdf2.host_verifications.head()"
      ],
      "metadata": {
        "colab": {
          "base_uri": "https://localhost:8080/"
        },
        "id": "R_50sEX7b1-j",
        "outputId": "f6affcfb-678b-49c4-b1ab-20cc212515a3"
      },
      "id": "R_50sEX7b1-j",
      "execution_count": null,
      "outputs": [
        {
          "output_type": "execute_result",
          "data": {
            "text/plain": [
              "0                  ['email', 'phone']\n",
              "1    ['email', 'phone', 'work_email']\n",
              "2                  ['email', 'phone']\n",
              "3                  ['email', 'phone']\n",
              "4                  ['email', 'phone']\n",
              "Name: host_verifications, dtype: object"
            ]
          },
          "metadata": {},
          "execution_count": 48
        }
      ]
    },
    {
      "cell_type": "code",
      "source": [
        "''' \n",
        "This function takes lists of lists and outputs a list of the unique items with an associated count.\n",
        "\n",
        "Inputs:  \n",
        "column_name = the variable to be evaluated\n",
        "variable_name = the variable name in quotes (the same one used in )\n",
        "\n",
        "Output\n",
        "An array containing individual features. \n",
        "\n",
        "'''\n",
        "\n",
        "def get_column_name_list(column, variable_name):\n",
        "    \n",
        "    col_list=[]\n",
        "    for col in column:\n",
        "        col=col.replace('\"','')\n",
        "        col=col.replace('{','')\n",
        "        col=col.replace('}','')\n",
        "        col=col.replace('[','')\n",
        "        col=col.replace(']','') \n",
        "        #col=col.replace(' '','')\n",
        "        #col=col.replace('}','')       \n",
        "        #col=col.replace(\"translation missing: en.hosting_amenity_49\", 'Unknown amenity')\n",
        "        #col=col.replace(\"translation missing: en.hosting_amenity_50\", 'Unknown amenity')\n",
        "        col_list += col.split(',')\n",
        "\n",
        "    #Transform list into a data frame\n",
        "    col_list2=pd.DataFrame(col_list) \n",
        "    \n",
        "    #rename the column as variable_name\n",
        "    col_list2.rename(columns={0:variable_name},inplace=True) \n",
        "\n",
        "    #group by category and count\n",
        "    col_list2=col_list2.groupby(variable_name)[variable_name].count().sort_values(ascending=False)\n",
        "    \n",
        "    #Rename varible_name column as count\n",
        "    col_list2.rename({variable_name:'count'},inplace=True) \n",
        "\n",
        "    return col_list2"
      ],
      "metadata": {
        "id": "awEwpweDFstJ"
      },
      "id": "awEwpweDFstJ",
      "execution_count": null,
      "outputs": []
    },
    {
      "cell_type": "code",
      "source": [
        "# Use the get_column_name_list function to  amenities\n",
        "\n",
        "amenities=get_column_name_list(fdf2.amenities, 'amenities')\n",
        "\n",
        "amenities"
      ],
      "metadata": {
        "colab": {
          "base_uri": "https://localhost:8080/"
        },
        "id": "0ucoNxbgb2Bu",
        "outputId": "7f4a9243-3751-49b1-c87b-9424b0e79e29"
      },
      "id": "0ucoNxbgb2Bu",
      "execution_count": null,
      "outputs": [
        {
          "output_type": "execute_result",
          "data": {
            "text/plain": [
              "amenities\n",
              " Wifi                                        141058\n",
              " Long term stays allowed                     133838\n",
              " Smoke alarm                                 132255\n",
              " Kitchen                                     125763\n",
              " Heating                                     117209\n",
              "                                              ...  \n",
              " Organic - mint - brands only conditioner         1\n",
              " Organic - mint - brands only shampoo             1\n",
              " Organic Avalon tea tree shampoo  shampoo         1\n",
              " Organic Goat Milk Soap body soap                 1\n",
              "x body soap                                       1\n",
              "Name: amenities, Length: 6453, dtype: int64"
            ]
          },
          "metadata": {},
          "execution_count": 51
        }
      ]
    },
    {
      "cell_type": "code",
      "source": [
        "fdf2.amenities[0]\n",
        "#len(fdf2.amenities.to_list()[0])"
      ],
      "metadata": {
        "colab": {
          "base_uri": "https://localhost:8080/",
          "height": 74
        },
        "id": "va8bSTAnmqly",
        "outputId": "6e6a3622-3565-4ceb-b633-42c04d1e5834"
      },
      "id": "va8bSTAnmqly",
      "execution_count": null,
      "outputs": [
        {
          "output_type": "execute_result",
          "data": {
            "text/plain": [
              "'[\"First aid kit\", \"Microwave\", \"Stove\", \"Coffee maker\", \"Long term stays allowed\", \"Carbon monoxide alarm\", \"TV with standard cable\", \"Essentials\", \"Oven\", \"Hot water\", \"Outlet covers\", \"Heating\", \"Smoke alarm\", \"Fire extinguisher\", \"Free street parking\", \"Keypad\", \"Free parking on premises\", \"Extra pillows and blankets\", \"Cleaning before checkout\", \"Dishes and silverware\", \"Hair dryer\", \"Cable TV\", \"Refrigerator\", \"Bed linens\", \"Cooking basics\", \"Hangers\", \"Luggage dropoff allowed\", \"Iron\", \"Elevator\", \"Shampoo\", \"Kitchen\", \"Dryer\", \"Washer\", \"Wifi\"]'"
            ],
            "application/vnd.google.colaboratory.intrinsic+json": {
              "type": "string"
            }
          },
          "metadata": {},
          "execution_count": 82
        }
      ]
    },
    {
      "cell_type": "code",
      "source": [
        "dft = pd.DataFrame([fdf2.amenities])\n",
        "dft.head"
      ],
      "metadata": {
        "id": "XWfgE2sxb2EV"
      },
      "id": "XWfgE2sxb2EV",
      "execution_count": null,
      "outputs": []
    },
    {
      "cell_type": "code",
      "source": [
        "dft[\"count\"] = dft[\"amenities\"].apply(lambda x: len(x.split(\",\")))\n",
        "print(dft)"
      ],
      "metadata": {
        "id": "qgcb6FUK_Lfo"
      },
      "id": "qgcb6FUK_Lfo",
      "execution_count": null,
      "outputs": []
    }
  ],
  "metadata": {
    "kernelspec": {
      "display_name": "Python 3 (ipykernel)",
      "language": "python",
      "name": "python3"
    },
    "language_info": {
      "codemirror_mode": {
        "name": "ipython",
        "version": 3
      },
      "file_extension": ".py",
      "mimetype": "text/x-python",
      "name": "python",
      "nbconvert_exporter": "python",
      "pygments_lexer": "ipython3",
      "version": "3.9.12"
    },
    "colab": {
      "provenance": [],
      "collapsed_sections": []
    }
  },
  "nbformat": 4,
  "nbformat_minor": 5
}